{
 "cells": [
  {
   "cell_type": "markdown",
   "id": "f2f881e8-6e4d-4bf8-811c-a3b5259b3c80",
   "metadata": {},
   "source": [
    "## Equal Row and Column Pairs"
   ]
  },
  {
   "cell_type": "code",
   "execution_count": 13,
   "id": "1ef03577-dd99-4707-aaf6-adb8dc361cf5",
   "metadata": {},
   "outputs": [
    {
     "data": {
      "text/plain": [
       "'(12, 2, 3)'"
      ]
     },
     "execution_count": 13,
     "metadata": {},
     "output_type": "execute_result"
    }
   ],
   "source": [
    "tpl=(12,2,3)\n",
    "str(tpl)"
   ]
  },
  {
   "cell_type": "code",
   "execution_count": 18,
   "id": "4ba38f2f-dad6-4873-a7b4-addbbfcd4847",
   "metadata": {},
   "outputs": [],
   "source": [
    "from typing import List\n",
    "def equalPairs(grid: List[List[int]]) -> int:\n",
    "    n = len(grid)\n",
    "    data_dict = {}\n",
    "    count = 0\n",
    "    for i in range(n):\n",
    "        x_list = [grid[i][j] for j in range(n)]\n",
    "        key = ''.join(x_list)\n",
    "        data_dict[key] += 1\n",
    "    print(data_dict)\n",
    "    for row in grid:\n",
    "        count += data_dict[str(row)]\n",
    "\n",
    "    return count\n"
   ]
  },
  {
   "cell_type": "code",
   "execution_count": null,
   "id": "452f551a-e811-488f-86d9-186853a6c1f9",
   "metadata": {},
   "outputs": [],
   "source": [
    "from collections import defaultdict\n",
    "\n",
    "\n",
    "class Solution:\n",
    "    def equalPairs(self, grid: List[List[int]]) -> int:\n",
    "        m = defaultdict(int)\n",
    "        cnt = 0\n",
    "\n",
    "        # Use tuple instead of string for rows\n",
    "        for row in grid:\n",
    "            m[tuple(row)] += 1\n",
    "\n",
    "        # Use tuple instead of string for columns\n",
    "        for i in range(len(grid[0])):\n",
    "            col = tuple(grid[j][i] for j in range(len(grid)))\n",
    "            cnt += m[col]\n",
    "\n",
    "        return cnt"
   ]
  }
 ],
 "metadata": {
  "kernelspec": {
   "display_name": "Python 3 (ipykernel)",
   "language": "python",
   "name": "python3"
  },
  "language_info": {
   "codemirror_mode": {
    "name": "ipython",
    "version": 3
   },
   "file_extension": ".py",
   "mimetype": "text/x-python",
   "name": "python",
   "nbconvert_exporter": "python",
   "pygments_lexer": "ipython3",
   "version": "3.13.0"
  }
 },
 "nbformat": 4,
 "nbformat_minor": 5
}
