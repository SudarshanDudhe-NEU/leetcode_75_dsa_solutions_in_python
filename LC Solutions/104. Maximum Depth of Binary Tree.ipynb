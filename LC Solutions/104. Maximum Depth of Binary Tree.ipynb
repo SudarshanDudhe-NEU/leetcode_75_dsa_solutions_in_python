{
 "cells": [
  {
   "cell_type": "markdown",
   "id": "82168889-463e-481a-87a6-ae1388311a89",
   "metadata": {},
   "source": [
    "104. Maximum Depth of Binary Tree\n",
    "Easy\n",
    "Topics\n",
    "Companies\n",
    "Given the root of a binary tree, return its maximum depth.\n",
    "\n",
    "A binary tree's maximum depth is the number of nodes along the longest path from the root node down to the farthest leaf node.\n",
    "\n",
    " \n",
    "\n",
    "Example 1:\n",
    "\n",
    "\n",
    "Input: root = [3,9,20,null,null,15,7]\n",
    "Output: 3\n",
    "Example 2:\n",
    "\n",
    "Input: root = [1,null,2]\n",
    "Output: 2"
   ]
  },
  {
   "cell_type": "code",
   "execution_count": 7,
   "id": "42d9b455-ca10-4298-88f6-5e91e530c83d",
   "metadata": {},
   "outputs": [
    {
     "name": "stdout",
     "output_type": "stream",
     "text": [
      "1 -> 2 -> 3 -> 4 -> 5 -> None\n"
     ]
    }
   ],
   "source": [
    "# Define a Node class\n",
    "class Node:\n",
    "    def __init__(self, value):\n",
    "        self.value = value\n",
    "        self.next = None\n",
    "\n",
    "# Function to create a linked list from a list\n",
    "def create_linked_list(values):\n",
    "    if not values:\n",
    "        return None  # If the input list is empty, return None\n",
    "    head = Node(values[0])  # Create the head node\n",
    "    current = head  # Start with the head node\n",
    "    for value in values[1:]:\n",
    "        current.next = Node(value)  # Create and link the next node\n",
    "        current = current.next  # Move to the next node\n",
    "    return head\n",
    "\n",
    "# Function to print the linked list\n",
    "def print_linked_list(head):\n",
    "    current = head\n",
    "    while current:\n",
    "        print(current.value, end=\" -> \")\n",
    "        current = current.next\n",
    "    print(\"None\")\n",
    "\n",
    "# Input list\n",
    "head_values = [1,2,3,4,5]\n",
    "\n",
    "# Create the linked list\n",
    "linked_list_head = create_linked_list(head_values)\n",
    "\n",
    "# Print the linked list\n",
    "print_linked_list(linked_list_head)"
   ]
  },
  {
   "cell_type": "code",
   "execution_count": 51,
   "id": "e43f0db2-4d91-4f5e-96cd-39d693444e8d",
   "metadata": {},
   "outputs": [],
   "source": [
    "from typing import Optional\n",
    "\n",
    "# Definition for singly-linked list.\n",
    "class ListNode:\n",
    "    def __init__(self, val=0, next=None):\n",
    "        self.val = val\n",
    "        self.next = next\n",
    "        \n",
    "class Solution:\n",
    "    def pairSum(self, head: Optional[ListNode]) -> int:\n",
    "        prev = None\n",
    "        current = head\n",
    "        sum_values = []\n",
    "        slow, fast = head, head\n",
    "        while fast and fast.next:\n",
    "            fast = fast.next.next\n",
    "            slow = slow.next\n",
    "            next_node = current.next\n",
    "            current.next = prev\n",
    "            prev = current\n",
    "            current = next_node\n",
    "        while slow:\n",
    "            sum_values.append(slow.value + prev.value)\n",
    "            slow = slow.next\n",
    "            prev = prev.next\n",
    "            \n",
    "        return max(sum_values)"
   ]
  },
  {
   "cell_type": "code",
   "execution_count": 56,
   "id": "e3eed953-91b5-494e-9604-4cb6b9a48d4e",
   "metadata": {},
   "outputs": [
    {
     "name": "stdout",
     "output_type": "stream",
     "text": [
      "<__main__.Node object at 0x10592a7b0>\n"
     ]
    }
   ],
   "source": [
    "# Input list\n",
    "# head_values = [1,2,3,4,5,6,7,8]\n",
    "# head_values = [5,4,2,1]\n",
    "# head_values = [4,2,2,3]\n",
    "# head_values = [1,100000]\n",
    "head_values = [100000]\n",
    "\n",
    "# Create the linked list\n",
    "linked_list_head = create_linked_list(head_values)\n",
    "\n",
    "sol = Solution()\n",
    "sum_values = sol.pairSum(linked_list_head)\n",
    "print(sum_values)\n",
    "# head_sol1, head_sol2 = sol.pairSum(linked_list_head)\n",
    "# print(head_sol)\n",
    "# print_linked_list(head_sol1)\n",
    "# print_linked_list(head_sol2)"
   ]
  },
  {
   "cell_type": "code",
   "execution_count": 10,
   "id": "e11ec3dc-7fb4-4427-8e56-9f7156ae03af",
   "metadata": {},
   "outputs": [
    {
     "name": "stdout",
     "output_type": "stream",
     "text": [
      "1 -> 2 -> 3 -> 4 -> 5 -> 6 -> 7 -> 8 -> None\n"
     ]
    }
   ],
   "source": [
    "# Input list\n",
    "# head_values = [1, 3, 4, 7, 1, 2, 6]\n",
    "# head_values = [1,2,3,4]\n",
    "# head_values = [1,2,3,4,5]\n",
    "head_values = [1,2,3,4,5,6,7,8]\n",
    "\n",
    "# Create the linked list\n",
    "linked_list_head = create_linked_list(head_values)\n",
    "print_linked_list(linked_list_head)"
   ]
  },
  {
   "cell_type": "code",
   "execution_count": null,
   "id": "9f34193c-00f2-40b1-b86e-15df3d81e537",
   "metadata": {},
   "outputs": [],
   "source": []
  }
 ],
 "metadata": {
  "kernelspec": {
   "display_name": "Python 3 (ipykernel)",
   "language": "python",
   "name": "python3"
  },
  "language_info": {
   "codemirror_mode": {
    "name": "ipython",
    "version": 3
   },
   "file_extension": ".py",
   "mimetype": "text/x-python",
   "name": "python",
   "nbconvert_exporter": "python",
   "pygments_lexer": "ipython3",
   "version": "3.13.0"
  }
 },
 "nbformat": 4,
 "nbformat_minor": 5
}
