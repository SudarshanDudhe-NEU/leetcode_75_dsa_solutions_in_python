{
 "cells": [
  {
   "attachments": {},
   "cell_type": "markdown",
   "id": "642bf765-a792-42f4-8856-4d8304acb323",
   "metadata": {},
   "source": [
    "# 1372. Longest ZigZag Path in a Binary Tree\n",
    "\n",
    "**Medium**\n",
    "\n",
    "**Topics:**  \n",
    "- Binary Tree\n",
    "- Depth-First Search (DFS)\n",
    "- Tree Traversal\n",
    "\n",
    "**Companies:**  \n",
    "- Various tech companies (commonly asked in interviews)\n",
    "\n",
    "**Hint:**  \n",
    "- You are given the root of a binary tree.\n",
    "\n",
    "## Problem Description\n",
    "\n",
    "A ZigZag path for a binary tree is defined as follows:\n",
    "\n",
    "1. Choose any node in the binary tree and a direction (right or left).\n",
    "2. If the current direction is right, move to the right child of the current node; otherwise, move to the left child.\n",
    "3. Change the direction from right to left or from left to right.\n",
    "4. Repeat the second and third steps until you can't move in the tree.\n",
    "\n",
    "The ZigZag length is defined as the number of nodes visited - 1. (A single node has a length of 0).\n",
    "\n",
    "**Task:**  \n",
    "Return the longest ZigZag path contained in that tree.\n",
    "\n",
    "## Example\n",
    "\n",
    "Given the following binary tree:\n",
    "\n",
    "\n",
    "### Example 1\n",
    "Input\n",
    "\n",
    "root = [1,null,1,1,1,null,null,1,1,null,1,null,null,null,1]\n",
    "\n",
    "Tree Structure:\n",
    "\n",
    "        \n",
    "        1\n",
    "         \\\n",
    "          1\n",
    "         / \\\n",
    "        1   1\n",
    "           / \\\n",
    "          1   1\n",
    "         /\n",
    "        1\n",
    "\n",
    "Output:\n",
    "3\n",
    "\n",
    "Explanation:\n",
    "The longest ZigZag path is right -> left -> right, which corresponds to the path:\n",
    "\n",
    "Start at the root (1), move right to the node with value 1.\n",
    "\n",
    "Move left to the node with value 1.\n",
    "\n",
    "Move right to the node with value 1.\n",
    "\n",
    "This path has a length of 3 (number of nodes visited - 1).\n",
    "\n",
    "\n",
    "\n",
    "### Example 2\n",
    "\n",
    "Input\n",
    "\n",
    "root = [1,1,1,null,1,null,null,1,1,null,1]\n",
    "\n",
    "        1\n",
    "         \\\n",
    "          1\n",
    "         / \\\n",
    "        1   1\n",
    "           / \\\n",
    "          1   1\n",
    "         /\n",
    "        1\n",
    "\n",
    "Output: 4\n",
    "\n",
    "Explanation:\n",
    "The longest ZigZag path is left -> right -> left -> right, which corresponds to the path:\n",
    "\n",
    "Start at the root (1), move left to the node with value 1.\n",
    "\n",
    "Move right to the node with value 1.\n",
    "\n",
    "Move left to the node with value 1.\n",
    "\n",
    "Move right to the node with value 1.\n",
    "\n",
    "This path has a length of 4 (number of nodes visited - 1).\n",
    "\n"
   ]
  },
  {
   "cell_type": "code",
   "execution_count": null,
   "id": "99ea99fc-cfe2-4054-aaeb-9b048c2f4479",
   "metadata": {},
   "outputs": [],
   "source": []
  },
  {
   "cell_type": "code",
   "execution_count": 1,
   "id": "f99032d1-1d21-44ca-83b1-d967bf3e49d5",
   "metadata": {},
   "outputs": [
    {
     "name": "stdout",
     "output_type": "stream",
     "text": [
      "Tree 1 (Inorder Traversal):\n",
      "1 1 1 1 1 1 1 1 \n",
      "Tree 2 (Inorder Traversal):\n",
      "1 1 1 1 1 1 1 "
     ]
    }
   ],
   "source": [
    "from typing import Optional, List\n",
    "from collections import deque\n",
    "\n",
    "# Definition for a binary tree node.\n",
    "class TreeNode:\n",
    "    def __init__(self, val=0, left=None, right=None):\n",
    "        self.val = val\n",
    "        self.left = left\n",
    "        self.right = right\n",
    "\n",
    "def create_tree_from_level_order(data: List[Optional[int]]) -> Optional[TreeNode]:\n",
    "    if not data or data[0] is None:\n",
    "        return None\n",
    "    \n",
    "    root = TreeNode(data[0])  # Root node\n",
    "    queue = deque([root])     # Queue for level-order insertion\n",
    "    index = 1                 # Index in the data list\n",
    "    \n",
    "    while queue and index < len(data):\n",
    "        node = queue.popleft()  # Get the current node\n",
    "        \n",
    "        # Assign the left child if available\n",
    "        if index < len(data) and data[index] is not None:\n",
    "            node.left = TreeNode(data[index])\n",
    "            queue.append(node.left)\n",
    "        index += 1\n",
    "        \n",
    "        # Assign the right child if available\n",
    "        if index < len(data) and data[index] is not None:\n",
    "            node.right = TreeNode(data[index])\n",
    "            queue.append(node.right)\n",
    "        index += 1\n",
    "    \n",
    "    return root\n",
    "\n",
    "# Level-order representations\n",
    "data1 = [1, None, 1, 1, 1, None, None, 1, 1, None, 1, None, None, None, 1]\n",
    "\n",
    "data2 = [1,1,1,None,1,None,None,1,1,None,1]\n",
    "data3 = [1]\n",
    "\n",
    "# Create the trees\n",
    "tree1 = create_tree_from_level_order(data1)\n",
    "tree2 = create_tree_from_level_order(data2)\n",
    "tree3 = create_tree_from_level_order(data3)\n",
    "\n",
    "# Function to print the tree (inorder traversal for visualization)\n",
    "def inorder_traversal(root: Optional[TreeNode]):\n",
    "    if root:\n",
    "        inorder_traversal(root.left)\n",
    "        print(root.val, end=\" \")\n",
    "        inorder_traversal(root.right)\n",
    "\n",
    "print(\"Tree 1 (Inorder Traversal):\")\n",
    "inorder_traversal(tree1)\n",
    "print(\"\\nTree 2 (Inorder Traversal):\")\n",
    "inorder_traversal(tree2)"
   ]
  },
  {
   "cell_type": "markdown",
   "id": "719ff64a-3821-4522-a195-abb1598f1445",
   "metadata": {},
   "source": [
    "## Solution"
   ]
  },
  {
   "cell_type": "code",
   "execution_count": 2,
   "id": "8afb3435-2256-4dc5-936d-eb79a0f1a582",
   "metadata": {},
   "outputs": [],
   "source": [
    "from typing import Optional\n",
    "\n",
    "class Solution:\n",
    "    def __init__(self):\n",
    "        self.max_zig_zag_path_length = 0\n",
    "\n",
    "    def longestZigZag(self, root):\n",
    "        def calculate_zigzag_path_length(node, direction, path_length):\n",
    "            if not node:\n",
    "                return\n",
    "\n",
    "            self.max_zig_zag_path_length = max(self.max_zig_zag_path_length, path_length)\n",
    "\n",
    "            if direction == \"right\":\n",
    "                if node.left:\n",
    "                    calculate_zigzag_path_length(node.left, \"left\", path_length + 1)\n",
    "                if node.right:\n",
    "                    calculate_zigzag_path_length(node.right, \"right\", 1)\n",
    "            else:\n",
    "                if node.right:\n",
    "                    calculate_zigzag_path_length(node.right, \"right\", path_length + 1)\n",
    "                if node.left:\n",
    "                    calculate_zigzag_path_length(node.left, \"left\", 1)\n",
    "\n",
    "        if root:\n",
    "            calculate_zigzag_path_length(root.left, \"left\", 1)\n",
    "            calculate_zigzag_path_length(root.right, \"right\", 1)\n",
    "\n",
    "        return self.max_zig_zag_path_length\n"
   ]
  },
  {
   "cell_type": "code",
   "execution_count": 3,
   "id": "be42d66c-0fef-4a6a-b202-2f11aaab7e10",
   "metadata": {},
   "outputs": [
    {
     "data": {
      "text/plain": [
       "3"
      ]
     },
     "execution_count": 3,
     "metadata": {},
     "output_type": "execute_result"
    }
   ],
   "source": [
    "sol = Solution()\n",
    "sol.longestZigZag(tree1)"
   ]
  },
  {
   "cell_type": "code",
   "execution_count": 4,
   "id": "75749325-fc45-4493-9c7b-bb6aa4fefe4b",
   "metadata": {},
   "outputs": [
    {
     "data": {
      "text/plain": [
       "4"
      ]
     },
     "execution_count": 4,
     "metadata": {},
     "output_type": "execute_result"
    }
   ],
   "source": [
    "sol = Solution()\n",
    "sol.longestZigZag(tree2)"
   ]
  },
  {
   "cell_type": "code",
   "execution_count": 5,
   "id": "7aa98011-4fe1-49ce-992c-0fcdae6875ab",
   "metadata": {},
   "outputs": [
    {
     "data": {
      "text/plain": [
       "0"
      ]
     },
     "execution_count": 5,
     "metadata": {},
     "output_type": "execute_result"
    }
   ],
   "source": [
    "sol = Solution()\n",
    "sol.longestZigZag(tree3)"
   ]
  },
  {
   "cell_type": "markdown",
   "id": "a17f8ad9-1033-43f3-9123-09ca734528cf",
   "metadata": {},
   "source": [
    "### Iterative DFS Solution"
   ]
  },
  {
   "cell_type": "code",
   "execution_count": 6,
   "id": "d506f6e3-000e-4a2b-b974-a628fd25f450",
   "metadata": {},
   "outputs": [],
   "source": [
    "class Solution:\n",
    "    def __init__(self):\n",
    "        self.max_zig_zag_path_length = 0\n",
    "\n",
    "    def longestZigZag(self, root):\n",
    "        if not root:\n",
    "            return 0\n",
    "\n",
    "        stack = [(root.left, \"left\", 1), (root.right, \"right\", 1)]\n",
    "\n",
    "        while stack:\n",
    "            node, direction, path_length = stack.pop()\n",
    "            if not node:\n",
    "                continue\n",
    "\n",
    "            self.max_zig_zag_path_length = max(self.max_zig_zag_path_length, path_length)\n",
    "\n",
    "            if direction == \"right\":\n",
    "                stack.append((node.left, \"left\", path_length + 1))\n",
    "                stack.append((node.right, \"right\", 1))\n",
    "            else:\n",
    "                stack.append((node.right, \"right\", path_length + 1))\n",
    "                stack.append((node.left, \"left\", 1))\n",
    "\n",
    "        return self.max_zig_zag_path_length\n"
   ]
  },
  {
   "cell_type": "code",
   "execution_count": 8,
   "id": "0f9fcea9-27b8-4029-9792-bfcafe92d53b",
   "metadata": {},
   "outputs": [
    {
     "name": "stdout",
     "output_type": "stream",
     "text": [
      "3\n",
      "4\n",
      "0\n"
     ]
    }
   ],
   "source": [
    "sol = Solution()\n",
    "print(sol.longestZigZag(tree1))\n",
    "sol = Solution()\n",
    "print(sol.longestZigZag(tree2))\n",
    "sol = Solution()\n",
    "print(sol.longestZigZag(tree3))"
   ]
  },
  {
   "cell_type": "code",
   "execution_count": null,
   "id": "96f03150-6206-4342-9a8a-372322dc552d",
   "metadata": {},
   "outputs": [],
   "source": []
  }
 ],
 "metadata": {
  "kernelspec": {
   "display_name": "Python 3 (ipykernel)",
   "language": "python",
   "name": "python3"
  },
  "language_info": {
   "codemirror_mode": {
    "name": "ipython",
    "version": 3
   },
   "file_extension": ".py",
   "mimetype": "text/x-python",
   "name": "python",
   "nbconvert_exporter": "python",
   "pygments_lexer": "ipython3",
   "version": "3.13.1"
  }
 },
 "nbformat": 4,
 "nbformat_minor": 5
}
