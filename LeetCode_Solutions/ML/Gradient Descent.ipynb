{
 "cells": [
  {
   "cell_type": "code",
   "execution_count": 15,
   "id": "825a340e-b97f-413c-bfe4-fd0a968592e3",
   "metadata": {},
   "outputs": [],
   "source": [
    "class Solution:\n",
    "    def get_minimizer(self, iterations: int, learning_rate: float, init: int) -> float:\n",
    "        if iterations:\n",
    "             for i in range(iterations):\n",
    "                init = init - (learning_rate*(2*init))\n",
    "\n",
    "        return round(init,5)"
   ]
  },
  {
   "cell_type": "code",
   "execution_count": 16,
   "id": "35ae3ecf-8400-43a9-a73f-13eea139b173",
   "metadata": {},
   "outputs": [],
   "source": [
    "sol = Solution()"
   ]
  },
  {
   "cell_type": "code",
   "execution_count": 17,
   "id": "c3fe797d-0573-4d36-96e3-c735133b175f",
   "metadata": {},
   "outputs": [
    {
     "data": {
      "text/plain": [
       "4.08536"
      ]
     },
     "execution_count": 17,
     "metadata": {},
     "output_type": "execute_result"
    }
   ],
   "source": [
    "sol.get_minimizer(iterations = 10, learning_rate = 0.01, init = 5)"
   ]
  },
  {
   "cell_type": "code",
   "execution_count": null,
   "id": "6bda45ac-4db5-4b80-8026-7736dd3980cf",
   "metadata": {},
   "outputs": [],
   "source": []
  }
 ],
 "metadata": {
  "kernelspec": {
   "display_name": "Python 3 (ipykernel)",
   "language": "python",
   "name": "python3"
  },
  "language_info": {
   "codemirror_mode": {
    "name": "ipython",
    "version": 3
   },
   "file_extension": ".py",
   "mimetype": "text/x-python",
   "name": "python",
   "nbconvert_exporter": "python",
   "pygments_lexer": "ipython3",
   "version": "3.13.2"
  }
 },
 "nbformat": 4,
 "nbformat_minor": 5
}
