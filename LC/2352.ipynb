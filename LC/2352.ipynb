{
 "cells": [
  {
   "cell_type": "markdown",
   "id": "f2f881e8-6e4d-4bf8-811c-a3b5259b3c80",
   "metadata": {},
   "source": [
    "## Equal Row and Column Pairs"
   ]
  },
  {
   "cell_type": "code",
   "execution_count": 13,
   "id": "1ef03577-dd99-4707-aaf6-adb8dc361cf5",
   "metadata": {},
   "outputs": [
    {
     "data": {
      "text/plain": [
       "'(12, 2, 3)'"
      ]
     },
     "execution_count": 13,
     "metadata": {},
     "output_type": "execute_result"
    }
   ],
   "source": [
    "tpl=(12,2,3)\n",
    "str(tpl)"
   ]
  },
  {
   "cell_type": "code",
   "execution_count": 18,
   "id": "4ba38f2f-dad6-4873-a7b4-addbbfcd4847",
   "metadata": {},
   "outputs": [],
   "source": [
    "from typing import List\n",
    "def equalPairs(grid: List[List[int]]) -> int:\n",
    "    n = len(grid)\n",
    "    data_dict = {}\n",
    "    count = 0\n",
    "    for i in range(n):\n",
    "        x_list = [grid[i][j] for j in range(n)]\n",
    "        key = ''.join(x_list)\n",
    "        data_dict[key] += 1\n",
    "    print(data_dict)\n",
    "    for row in grid:\n",
    "        count += data_dict[str(row)]\n",
    "\n",
    "    return count\n"
   ]
  },
  {
   "cell_type": "code",
   "execution_count": 19,
   "id": "0ec3eb98-afd0-49b4-8995-fe9087945029",
   "metadata": {},
   "outputs": [
    {
     "ename": "KeyError",
     "evalue": "'[3, 2, 1]'",
     "output_type": "error",
     "traceback": [
      "\u001b[0;31m---------------------------------------------------------------------------\u001b[0m",
      "\u001b[0;31mKeyError\u001b[0m                                  Traceback (most recent call last)",
      "Cell \u001b[0;32mIn[19], line 2\u001b[0m\n\u001b[1;32m      1\u001b[0m grid \u001b[38;5;241m=\u001b[39m [[\u001b[38;5;241m3\u001b[39m,\u001b[38;5;241m2\u001b[39m,\u001b[38;5;241m1\u001b[39m],[\u001b[38;5;241m1\u001b[39m,\u001b[38;5;241m7\u001b[39m,\u001b[38;5;241m6\u001b[39m],[\u001b[38;5;241m2\u001b[39m,\u001b[38;5;241m7\u001b[39m,\u001b[38;5;241m7\u001b[39m]]\n\u001b[0;32m----> 2\u001b[0m \u001b[43mequalPairs\u001b[49m\u001b[43m(\u001b[49m\u001b[43mgrid\u001b[49m\u001b[43m)\u001b[49m\n",
      "Cell \u001b[0;32mIn[18], line 8\u001b[0m, in \u001b[0;36mequalPairs\u001b[0;34m(grid)\u001b[0m\n\u001b[1;32m      6\u001b[0m \u001b[38;5;28;01mfor\u001b[39;00m i \u001b[38;5;129;01min\u001b[39;00m \u001b[38;5;28mrange\u001b[39m(n):\n\u001b[1;32m      7\u001b[0m     x_list \u001b[38;5;241m=\u001b[39m [grid[i][j] \u001b[38;5;28;01mfor\u001b[39;00m j \u001b[38;5;129;01min\u001b[39;00m \u001b[38;5;28mrange\u001b[39m(n)]\n\u001b[0;32m----> 8\u001b[0m     \u001b[43mdata_dict\u001b[49m\u001b[43m[\u001b[49m\u001b[38;5;28;43mstr\u001b[39;49m\u001b[43m(\u001b[49m\u001b[43mx_list\u001b[49m\u001b[43m)\u001b[49m\u001b[43m]\u001b[49m \u001b[38;5;241m+\u001b[39m\u001b[38;5;241m=\u001b[39m \u001b[38;5;241m1\u001b[39m\n\u001b[1;32m      9\u001b[0m \u001b[38;5;28mprint\u001b[39m(data_dict)\n\u001b[1;32m     10\u001b[0m \u001b[38;5;28;01mfor\u001b[39;00m row \u001b[38;5;129;01min\u001b[39;00m grid:\n",
      "\u001b[0;31mKeyError\u001b[0m: '[3, 2, 1]'"
     ]
    }
   ],
   "source": [
    "grid = [[3,2,1],[1,7,6],[2,7,7]]\n",
    "equalPairs(grid)"
   ]
  },
  {
   "cell_type": "code",
   "execution_count": 20,
   "id": "345c3858-1efc-4f05-a2d8-48f813d414ba",
   "metadata": {},
   "outputs": [
    {
     "ename": "TypeError",
     "evalue": "sequence item 0: expected str instance, int found",
     "output_type": "error",
     "traceback": [
      "\u001b[0;31m---------------------------------------------------------------------------\u001b[0m",
      "\u001b[0;31mTypeError\u001b[0m                                 Traceback (most recent call last)",
      "Cell \u001b[0;32mIn[20], line 6\u001b[0m\n\u001b[1;32m      4\u001b[0m \u001b[38;5;28;01mfor\u001b[39;00m i \u001b[38;5;129;01min\u001b[39;00m \u001b[38;5;28mrange\u001b[39m(n):\n\u001b[1;32m      5\u001b[0m     x_list \u001b[38;5;241m=\u001b[39m [grid[i][j] \u001b[38;5;28;01mfor\u001b[39;00m j \u001b[38;5;129;01min\u001b[39;00m \u001b[38;5;28mrange\u001b[39m(n)]\n\u001b[0;32m----> 6\u001b[0m     key \u001b[38;5;241m=\u001b[39m \u001b[38;5;124;43m'\u001b[39;49m\u001b[38;5;124;43m'\u001b[39;49m\u001b[38;5;241;43m.\u001b[39;49m\u001b[43mjoin\u001b[49m\u001b[43m(\u001b[49m\u001b[43mx_list\u001b[49m\u001b[43m)\u001b[49m\n\u001b[1;32m      7\u001b[0m     data_dict[key] \u001b[38;5;241m+\u001b[39m\u001b[38;5;241m=\u001b[39m \u001b[38;5;241m1\u001b[39m\n",
      "\u001b[0;31mTypeError\u001b[0m: sequence item 0: expected str instance, int found"
     ]
    }
   ],
   "source": [
    "n = len(grid)\n",
    "data_dict = {}\n",
    "count = 0\n",
    "for i in range(n):\n",
    "    x_list = [grid[i][j] for j in range(n)]\n",
    "    key = ''.join(x_list)\n",
    "    data_dict[key] += 1"
   ]
  },
  {
   "cell_type": "code",
   "execution_count": null,
   "id": "452f551a-e811-488f-86d9-186853a6c1f9",
   "metadata": {},
   "outputs": [],
   "source": []
  }
 ],
 "metadata": {
  "kernelspec": {
   "display_name": "Python 3 (ipykernel)",
   "language": "python",
   "name": "python3"
  },
  "language_info": {
   "codemirror_mode": {
    "name": "ipython",
    "version": 3
   },
   "file_extension": ".py",
   "mimetype": "text/x-python",
   "name": "python",
   "nbconvert_exporter": "python",
   "pygments_lexer": "ipython3",
   "version": "3.13.0"
  }
 },
 "nbformat": 4,
 "nbformat_minor": 5
}
