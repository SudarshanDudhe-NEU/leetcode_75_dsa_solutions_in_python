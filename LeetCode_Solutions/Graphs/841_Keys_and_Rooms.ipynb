{
 "cells": [
  {
   "cell_type": "markdown",
   "id": "224fb7d3",
   "metadata": {
    "vscode": {
     "languageId": "markdown"
    }
   },
   "source": [
    "# 841. Keys and Rooms\n",
    "\n",
    "**Difficulty:** Medium  \n",
    "**Topics:** Graph, Depth-First Search (DFS), Breadth-First Search (BFS)  \n",
    "\n",
    "There are `n` rooms labeled from `0` to `n - 1` and all the rooms are locked except for room `0`. Your goal is to visit all the rooms. However, you cannot enter a locked room without having its key.\n",
    "\n",
    "When you visit a room, you may find a set of distinct keys in it. Each key has a number on it, denoting which room it unlocks, and you can take all of them with you to unlock the other rooms.\n",
    "\n",
    "Given an array `rooms` where `rooms[i]` is the set of keys that you can obtain if you visited room `i`, return `true` if you can visit all the rooms, or `false` otherwise.\n",
    "\n",
    "---\n",
    "\n",
    "## Examples\n",
    "\n",
    "### Example 1:\n",
    "**Input:**  \n",
    "`rooms = [[1],[2],[3],[]]`  \n",
    "**Output:**  \n",
    "`true`  \n",
    "\n",
    "**Explanation:**  \n",
    "- We visit room `0` and pick up key `1`.  \n",
    "- We then visit room `1` and pick up key `2`.  \n",
    "- We then visit room `2` and pick up key `3`.  \n",
    "- We then visit room `3`.  \n",
    "\n",
    "Since we were able to visit every room, we return `true`.\n",
    "\n",
    "---\n",
    "\n",
    "### Example 2:\n",
    "**Input:**  \n",
    "`rooms = [[1,3],[3,0,1],[2],[0]]`  \n",
    "**Output:**  \n",
    "`false`  \n",
    "\n",
    "**Explanation:**  \n",
    "We cannot enter room number `2` since the only key that unlocks it is in that room.\n"
   ]
  },
  {
   "cell_type": "code",
   "execution_count": 8,
   "id": "176530f6",
   "metadata": {},
   "outputs": [
    {
     "name": "stdout",
     "output_type": "stream",
     "text": [
      "Current directory: /Users/sudarshan/courses/PSA/leetcode_75_dsa_solutions_in_python/LeetCode_Solutions/Graphs\n",
      "Project root directory added to sys.path: /Users/sudarshan/courses/PSA/leetcode_75_dsa_solutions_in_python\n"
     ]
    }
   ],
   "source": [
    "import sys\n",
    "import os\n",
    "\t\t\n",
    "# Display the response nicely\n",
    "from IPython.display import display, Markdown\n",
    "\n",
    "# Get the current working directory\n",
    "current_dir = os.getcwd()\n",
    "print(f\"Current directory: {current_dir}\")\n",
    "\n",
    "project_root = os.path.abspath(os.path.join(current_dir, '../..'))  # Go up two levels from Graphs folder\n",
    "sys.path.append(project_root)\n",
    "print(f\"Project root directory added to sys.path: {project_root}\")\n",
    "from LeetCode_Solutions.Query_bot import query_ollama\n",
    "\n",
    "# Now try importing\n",
    "def ask_ollama(query):\t\n",
    "\ttry:\n",
    "\t\tresponse = query_ollama(query)\n",
    "\t\tdisplay(Markdown(f\"\"\"\n",
    "\t\t### Response:\n",
    "\t\t{response}\n",
    "\t\t\"\"\"))\n",
    "\texcept ModuleNotFoundError as e:\n",
    "\t\tprint(f\"Import error: {e}\")\n",
    "\t\tprint(\"Python path:\", sys.path)\n"
   ]
  },
  {
   "cell_type": "code",
   "execution_count": 9,
   "id": "bc317176",
   "metadata": {},
   "outputs": [
    {
     "name": "stdout",
     "output_type": "stream",
     "text": [
      "0 1 3 2 "
     ]
    }
   ],
   "source": [
    "def dfs(graph, node, visited):\n",
    "    if node in visited:\n",
    "        return\n",
    "    print(node, end=\" \")  # Process node\n",
    "    visited.add(node)\n",
    "    for neighbor in graph[node]:\n",
    "        dfs(graph, neighbor, visited)\n",
    "\n",
    "graph = {0: [1, 2], 1: [0, 3], 2: [0, 3], 3: [1, 2]}\n",
    "visited = set()\n",
    "dfs(graph, 0, visited)  # Output: 0 1 3 2 (or another valid DFS order)"
   ]
  },
  {
   "cell_type": "code",
   "execution_count": 10,
   "id": "16d6623b",
   "metadata": {},
   "outputs": [
    {
     "name": "stdout",
     "output_type": "stream",
     "text": [
      "0 1 2 3 "
     ]
    }
   ],
   "source": [
    "from collections import deque\n",
    "\n",
    "def bfs(graph, start):\n",
    "    queue = deque([start])\n",
    "    visited = set([start])\n",
    "\n",
    "    while queue:\n",
    "        node = queue.popleft()\n",
    "        print(node, end=\" \")  # Process node\n",
    "        for neighbor in graph[node]:\n",
    "            if neighbor not in visited:\n",
    "                queue.append(neighbor)\n",
    "                visited.add(neighbor)\n",
    "\n",
    "graph = {0: [1, 2], 1: [0, 3], 2: [0, 3], 3: [1, 2]}\n",
    "bfs(graph, 0)  # Output: 0 1 2 3 (or another valid BFS order)"
   ]
  },
  {
   "cell_type": "code",
   "execution_count": 11,
   "id": "b4db270e",
   "metadata": {},
   "outputs": [
    {
     "name": "stdout",
     "output_type": "stream",
     "text": [
      "0 1 2 3 True\n",
      "0 1 3 False\n"
     ]
    }
   ],
   "source": [
    "from typing import List\n",
    " \n",
    "class Solution:\n",
    "    def canVisitAllRooms(self, rooms: List[List[int]]) -> bool:\n",
    "        rooms_visited = set()\n",
    "        def dfs( node):\n",
    "            if node in rooms_visited:\n",
    "                return\n",
    "            print(node, end=\" \")  # Process node\n",
    "            rooms_visited.add(node)\n",
    "            for neighbor in rooms[node]:\n",
    "                dfs(neighbor)\n",
    "        dfs(0)\n",
    "        return len(rooms) == len(rooms_visited)\n",
    "\n",
    "# Example Test Cases\n",
    "sol = Solution()\n",
    "print(sol.canVisitAllRooms([[1],[2],[3],[]]))  # Output: True\n",
    "print(sol.canVisitAllRooms([[1,3],[3,0,1],[2],[0]]))  # Output: False"
   ]
  },
  {
   "cell_type": "code",
   "execution_count": 12,
   "id": "31442d41",
   "metadata": {},
   "outputs": [
    {
     "name": "stdout",
     "output_type": "stream",
     "text": [
      "0 2 1 True\n"
     ]
    }
   ],
   "source": [
    "# rooms = [[1],[2],[3],[]]\n",
    "# rooms = [[1,3],[3,0,1],[2],[0]]\n",
    "rooms = [[2],[],[1]]\n",
    "\n",
    "s = Solution()\n",
    "sol = s.canVisitAllRooms(rooms)\n",
    "print(sol)"
   ]
  },
  {
   "cell_type": "code",
   "execution_count": 13,
   "id": "38fdc8d1",
   "metadata": {},
   "outputs": [],
   "source": [
    "codde = f'''\n",
    "{Solution.__name__} class\n",
    "{Solution.canVisitAllRooms.__name__} method\n",
    "### Problem:\n",
    "You have n rooms labeled from 0 to n - 1 and all the rooms are locked except for room 0.\n",
    "You need to visit all the rooms. Your goal is to traverse all the rooms and open them by following these rules:\n",
    "1. You start in the locked room 0.\n",
    "2. Each room may contain a key to another room.\n",
    "3. You can only open a room if you have its key.\n",
    "4. You can only enter a room if you have its key.\n",
    "5. You can only leave a room if you have its key.\n",
    "### Example:\n",
    "Input: rooms = [[1],[2],[3],[]]\n",
    "Output: True\n",
    "Input: rooms = [[1,3],[3,0,1],[2],[0]]\n",
    "Output: False\n",
    "### Constraints:\n",
    "- n == rooms.length\n",
    "- 2 <= n <= 1000\n",
    "- 0 <= rooms[i].length <= n\n",
    "- rooms[i] is a list of keys\n",
    "- Each key rooms[i][j] is unique.\n",
    "### Explanation:\n",
    "- You start in the locked room 0.\n",
    "- You can only enter a room if you have its key.\n",
    "- You can only leave a room if you have its key.\n",
    "### Solution:\n",
    "- Use DFS to traverse the rooms.\n",
    "- Use a set to keep track of visited rooms.\n",
    "- Check if all rooms are visited.\n",
    "### Time Complexity:\n",
    "- O(n) where n is the number of rooms.\n",
    "### Space Complexity:\n",
    "- O(n) where n is the number of rooms.\n",
    "### Note:\n",
    "- The solution uses DFS to traverse the rooms.\n",
    "- The solution uses a set to keep track of visited rooms.\n",
    "- The solution checks if all rooms are visited.\n",
    "### The solution is correct.\n",
    "### The solution is efficient.\n",
    "### The solution is optimal.\n",
    "### The solution is clean.\n",
    "### The solution is easy to understand.\n",
    "### The solution is well documented.\n",
    "### The solution is well tested.\n",
    "### The solution is well structured.\n",
    "### The solution is well written.\n",
    "### The solution is well formatted.\n",
    "### The solution is well organized.\n",
    "### The solution is well designed.\n",
    "### The solution is well implemented.\n",
    "### The solution is well maintained.\n",
    "### The solution is well supported.\n",
    "'''"
   ]
  },
  {
   "cell_type": "code",
   "execution_count": 14,
   "id": "0513153a",
   "metadata": {},
   "outputs": [
    {
     "data": {
      "text/markdown": [
       "{'error': 'model \"llama3.2\" not found, try pulling it first'}"
      ],
      "text/plain": [
       "<IPython.core.display.Markdown object>"
      ]
     },
     "metadata": {},
     "output_type": "display_data"
    }
   ],
   "source": [
    "prompt = f''' codde:{codde} \\n'''\n",
    "prompt += ''' Explain the code step by step.'''\n",
    "display(Markdown(query_ollama(prompt)))"
   ]
  },
  {
   "cell_type": "code",
   "execution_count": null,
   "id": "91b039f0",
   "metadata": {},
   "outputs": [],
   "source": []
  }
 ],
 "metadata": {
  "kernelspec": {
   "display_name": "base",
   "language": "python",
   "name": "python3"
  },
  "language_info": {
   "codemirror_mode": {
    "name": "ipython",
    "version": 3
   },
   "file_extension": ".py",
   "mimetype": "text/x-python",
   "name": "python",
   "nbconvert_exporter": "python",
   "pygments_lexer": "ipython3",
   "version": "3.12.7"
  }
 },
 "nbformat": 4,
 "nbformat_minor": 5
}
