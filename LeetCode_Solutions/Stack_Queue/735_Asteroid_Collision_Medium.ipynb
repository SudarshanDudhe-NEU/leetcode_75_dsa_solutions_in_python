{
 "cells": [
  {
   "cell_type": "markdown",
   "id": "d0c0b78e",
   "metadata": {},
   "source": [
    "735. Asteroid Collision\n",
    "Medium\n",
    "Topics\n",
    "Companies\n",
    "Hint\n",
    "We are given an array asteroids of integers representing asteroids in a row. The indices of the asteriod in the array represent their relative position in space.\n",
    "\n",
    "For each asteroid, the absolute value represents its size, and the sign represents its direction (positive meaning right, negative meaning left). Each asteroid moves at the same speed.\n",
    "\n",
    "Find out the state of the asteroids after all collisions. If two asteroids meet, the smaller one will explode. If both are the same size, both will explode. Two asteroids moving in the same direction will never meet.\n",
    "\n",
    " \n",
    "\n",
    "Example 1:\n",
    "\n",
    "Input: asteroids = [5,10,-5]\n",
    "Output: [5,10]\n",
    "Explanation: The 10 and -5 collide resulting in 10. The 5 and 10 never collide.\n",
    "Example 2:\n",
    "\n",
    "Input: asteroids = [8,-8]\n",
    "Output: []\n",
    "Explanation: The 8 and -8 collide exploding each other.\n",
    "Example 3:\n",
    "\n",
    "Input: asteroids = [10,2,-5]\n",
    "Output: [10]\n",
    "Explanation: The 2 and -5 collide resulting in -5. The 10 and -5 collide resulting in 10.˛"
   ]
  },
  {
   "cell_type": "code",
   "execution_count": 38,
   "id": "fef8aedc-f7ba-41b9-a45e-2fef470b0ad6",
   "metadata": {},
   "outputs": [
    {
     "data": {
      "text/plain": [
       "[-2, -1, 1, 2]"
      ]
     },
     "execution_count": 38,
     "metadata": {},
     "output_type": "execute_result"
    }
   ],
   "source": [
    "# asteroids = [10,2,-5]\n",
    "# asteroids = [5,10,-5]\n",
    "# asteroids = [8,-8]\n",
    "asteroids = [-2,-1,1,2]\n",
    "\n",
    "from typing import List\n",
    "\n",
    "class Solution:\n",
    "    def asteroidCollision(self, asteroids: List[int]) -> List[int]:\n",
    "        res = []\n",
    "        for asteroid in asteroids:\n",
    "            if len(res) == 0 or asteroid > 0 or res[-1] < 0:\n",
    "                res.append(asteroid)\n",
    "                continue\n",
    "            while res and res[-1] > 0 and asteroid < 0:  # Check for collisions\n",
    "                if abs(res[-1]) < abs(asteroid):  # `asteroid` destroys `res[-1]`\n",
    "                    # print(abs(res[-1]) < abs(asteroid))\n",
    "                    # print(res)\n",
    "                    res.pop()\n",
    "                elif abs(res[-1]) == abs(asteroid):  # Both are destroyed\n",
    "                    res.pop()\n",
    "                    break\n",
    "                else:  # `res[-1]` destroys `asteroid`\n",
    "                    break\n",
    "        return res\n",
    "\n",
    "Solution().asteroidCollision(asteroids)"
   ]
  },
  {
   "cell_type": "code",
   "execution_count": 37,
   "id": "3f5fd790-a97e-461f-a759-8d3c42df6de9",
   "metadata": {},
   "outputs": [
    {
     "name": "stdout",
     "output_type": "stream",
     "text": [
      "\n"
     ]
    }
   ],
   "source": [
    "if len(res):\n",
    "    print()"
   ]
  },
  {
   "cell_type": "code",
   "execution_count": 6,
   "id": "79b8f1ac-59ca-4f0d-bd93-a56dba2f0244",
   "metadata": {},
   "outputs": [
    {
     "name": "stdout",
     "output_type": "stream",
     "text": [
      "as\n"
     ]
    }
   ],
   "source": [
    "if len(asteroids):\n",
    "    print(\"as\")"
   ]
  },
  {
   "cell_type": "code",
   "execution_count": 32,
   "id": "eb2d180e-71eb-40e6-9d23-820c1857a5ea",
   "metadata": {},
   "outputs": [],
   "source": [
    "class Solution:\n",
    "    def asteroidCollision(self, asteroids: List[int]) -> List[int]:\n",
    "        res = []\n",
    "        for asteroid in asteroids:\n",
    "            if len(res) == 0 or asteroid > 0 or res[-1] < 0:\n",
    "                res.append(asteroid)\n",
    "                continue\n",
    "            while res and res[-1] > 0 and asteroid < 0:  # Check for collisions\n",
    "                if abs(res[-1]) < abs(asteroid):  # `asteroid` destroys `res[-1]`\n",
    "                    res.pop()\n",
    "                elif abs(res[-1]) == abs(asteroid):  # Both are destroyed\n",
    "                    res.pop()\n",
    "                else:  # `res[-1]` destroys `asteroid`\n",
    "                    print(res, asteroid)\n",
    "                    break\n",
    "            if len(res) and asteroid < 0 and res[-1] < 0:\n",
    "                res.append(asteroid)\n",
    "           \n",
    "        return res"
   ]
  },
  {
   "cell_type": "code",
   "execution_count": 39,
   "id": "3d4924f1-e1a1-4686-8f06-a2982bf8eb32",
   "metadata": {},
   "outputs": [
    {
     "data": {
      "text/plain": [
       "[-2, -2]"
      ]
     },
     "execution_count": 39,
     "metadata": {},
     "output_type": "execute_result"
    }
   ],
   "source": [
    "asteroids = [-2,-2,1,-2]\n",
    "Solution().asteroidCollision(asteroids)"
   ]
  },
  {
   "cell_type": "code",
   "execution_count": 41,
   "id": "4905fc8a-c02a-4c83-a950-2e8f5dfb38a9",
   "metadata": {},
   "outputs": [],
   "source": [
    "class Solution:\n",
    "    def asteroidCollision(self, asteroids: List[int]) -> List[int]:\n",
    "        res = []\n",
    "        for asteroid in asteroids:\n",
    "            if len(res) == 0 or asteroid > 0 or res[-1] < 0:\n",
    "                res.append(asteroid)\n",
    "                continue\n",
    "            while res and res[-1] > 0 and asteroid < 0:  # Check for collisions\n",
    "                if abs(res[-1]) < abs(asteroid):  # `asteroid` destroys `res[-1]`\n",
    "                    res.pop()\n",
    "                elif abs(res[-1]) == abs(asteroid):  # Both are destroyed\n",
    "                    res.pop()\n",
    "                else:  # `res[-1]` destroys `asteroid`\n",
    "                    break\n",
    "            if len(res) == 0 or (asteroid < 0 and res[-1] < 0):\n",
    "                res.append(asteroid)\n",
    "        return res\n",
    "                \n"
   ]
  },
  {
   "cell_type": "code",
   "execution_count": 43,
   "id": "5f6246fb-11c2-447e-b443-8db41a501c26",
   "metadata": {},
   "outputs": [
    {
     "data": {
      "text/plain": [
       "[-2, -2]"
      ]
     },
     "execution_count": 43,
     "metadata": {},
     "output_type": "execute_result"
    }
   ],
   "source": [
    "asteroids = [-2,-2,1,-2]\n",
    "Solution().asteroidCollision(asteroids)"
   ]
  },
  {
   "cell_type": "code",
   "execution_count": 44,
   "id": "9c613b78-5065-48f9-a279-1355771144e2",
   "metadata": {},
   "outputs": [
    {
     "data": {
      "text/plain": [
       "-8"
      ]
     },
     "execution_count": 44,
     "metadata": {},
     "output_type": "execute_result"
    }
   ],
   "source": [
    "tt=[8,-8]\n",
    "pp = tt.pop()\n",
    "pp"
   ]
  },
  {
   "cell_type": "code",
   "execution_count": 73,
   "id": "f9607193-87e9-404e-b9ff-f830d8d84d1d",
   "metadata": {},
   "outputs": [],
   "source": [
    "class Solution:\n",
    "    def asteroidCollision(self, asteroids: List[int]) -> List[int]:\n",
    "        res = []\n",
    "        for asteroid in asteroids:\n",
    "            if len(res) == 0 or asteroid > 0 or res[-1] < 0:\n",
    "                res.append(asteroid)\n",
    "                continue\n",
    "            destr = None\n",
    "            while res and res[-1] > 0 and asteroid < 0:  # Check for collisions\n",
    "                if abs(res[-1]) < abs(asteroid):  # `asteroid` destroys `res[-1]`\n",
    "                    destr = res.pop()\n",
    "                elif abs(res[-1]) == abs(asteroid):  # Both are destroyed\n",
    "                    destr = res.pop()\n",
    "                else:  # `res[-1]` destroys `asteroid`\n",
    "                    break\n",
    "            if destr and abs(destr) != abs(asteroid):\n",
    "                print(destr)\n",
    "                if len(res) == 0 or (len(res) and asteroid < 0 and res[-1] < 0):\n",
    "                    res.append(asteroid)\n",
    "        return res\n",
    "                \n"
   ]
  },
  {
   "cell_type": "code",
   "execution_count": 74,
   "id": "f3f49755-a62e-48f6-b71e-67f50b8fb993",
   "metadata": {},
   "outputs": [
    {
     "name": "stdout",
     "output_type": "stream",
     "text": [
      "1\n"
     ]
    },
    {
     "data": {
      "text/plain": [
       "[-2, -2, -2]"
      ]
     },
     "execution_count": 74,
     "metadata": {},
     "output_type": "execute_result"
    }
   ],
   "source": [
    "asteroids = [-2,-2,1,-2]\n",
    "Solution().asteroidCollision(asteroids)"
   ]
  },
  {
   "cell_type": "code",
   "execution_count": 75,
   "id": "9ccae68f-09b8-4872-a53d-065cdd9cca42",
   "metadata": {},
   "outputs": [
    {
     "data": {
      "text/plain": [
       "[-2, -2]"
      ]
     },
     "execution_count": 75,
     "metadata": {},
     "output_type": "execute_result"
    }
   ],
   "source": [
    "asteroids = [-2,-2,1,-1]\n",
    "Solution().asteroidCollision(asteroids)"
   ]
  },
  {
   "cell_type": "code",
   "execution_count": null,
   "id": "94ad1b48-802e-479c-8ac1-335569db84bc",
   "metadata": {},
   "outputs": [],
   "source": []
  }
 ],
 "metadata": {
  "kernelspec": {
   "display_name": "Python 3 (ipykernel)",
   "language": "python",
   "name": "python3"
  },
  "language_info": {
   "codemirror_mode": {
    "name": "ipython",
    "version": 3
   },
   "file_extension": ".py",
   "mimetype": "text/x-python",
   "name": "python",
   "nbconvert_exporter": "python",
   "pygments_lexer": "ipython3",
   "version": "3.13.0"
  }
 },
 "nbformat": 4,
 "nbformat_minor": 5
}
