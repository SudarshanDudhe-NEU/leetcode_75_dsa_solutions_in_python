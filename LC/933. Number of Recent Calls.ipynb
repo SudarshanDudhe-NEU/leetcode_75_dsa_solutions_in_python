{
 "cells": [
  {
   "cell_type": "markdown",
   "id": "41a4c63b-ac75-44a2-9111-a280207a78f2",
   "metadata": {},
   "source": [
    "933. Number of Recent Calls\n",
    "Easy\n",
    "Topics\n",
    "Companies\n",
    "You have a RecentCounter class which counts the number of recent requests within a certain time frame.\n",
    "\n",
    "Implement the RecentCounter class:\n",
    "\n",
    "RecentCounter() Initializes the counter with zero recent requests.\n",
    "int ping(int t) Adds a new request at time t, where t represents some time in milliseconds, and returns the number of requests that has happened in the past 3000 milliseconds (including the new request). Specifically, return the number of requests that have happened in the inclusive range [t - 3000, t].\n",
    "It is guaranteed that every call to ping uses a strictly larger value of t than the previous call.\n",
    "\n",
    " \n",
    "\n",
    "Example 1:\n",
    "\n",
    "Input\n",
    "[\"RecentCounter\", \"ping\", \"ping\", \"ping\", \"ping\"]\n",
    "[[], [1], [100], [3001], [3002]]\n",
    "Output\n",
    "[null, 1, 2, 3, 3]\n",
    "\n",
    "Explanation\n",
    "RecentCounter recentCounter = new RecentCounter();\n",
    "recentCounter.ping(1);     // requests = [1], range is [-2999,1], return 1\n",
    "recentCounter.ping(100);   // requests = [1, 100], range is [-2900,100], return 2\n",
    "recentCounter.ping(3001);  // requests = [1, 100, 3001], range is [1,3001], return 3\n",
    "recentCounter.ping(3002);  // requests = [1, 100, 3001, 3002], range is [2,3002], return 3\n"
   ]
  },
  {
   "cell_type": "code",
   "execution_count": 50,
   "id": "5b70f8c2-835d-490f-b4cc-6c5a38ed225c",
   "metadata": {},
   "outputs": [],
   "source": [
    "class RecentCounter:\n",
    "\n",
    "    def __init__(self):\n",
    "        self.recent_requests = []\n",
    "        # self.output = 0\n",
    "    def ping(self, t: int) -> int:\n",
    "        self.recent_requests.append(t)\n",
    "        range_start = t-3000        \n",
    "        while len(self.recent_requests) and range_start>self.recent_requests[0]:\n",
    "            self.recent_requests.pop(0)\n",
    "        return len(self.recent_requests)\n",
    "\n",
    "\n",
    "# Your RecentCounter object will be instantiated and called as such:\n",
    "# obj = RecentCounter()\n",
    "# param_1 = obj.ping(t)"
   ]
  },
  {
   "cell_type": "code",
   "execution_count": 51,
   "id": "d1edbb65-96ad-4333-9d74-e31f8db2263e",
   "metadata": {},
   "outputs": [],
   "source": [
    "recentCounter = RecentCounter();"
   ]
  },
  {
   "cell_type": "code",
   "execution_count": 58,
   "id": "1cc0fc3a-573a-4106-b31d-6d66324420c2",
   "metadata": {},
   "outputs": [
    {
     "data": {
      "text/plain": [
       "[100, 3000, 3002, 3003]"
      ]
     },
     "execution_count": 58,
     "metadata": {},
     "output_type": "execute_result"
    }
   ],
   "source": [
    "recentCounter.recent_requests"
   ]
  },
  {
   "cell_type": "code",
   "execution_count": 53,
   "id": "5eb25e69-bb06-47b9-903c-1cad8b03ddb3",
   "metadata": {},
   "outputs": [
    {
     "data": {
      "text/plain": [
       "1"
      ]
     },
     "execution_count": 53,
     "metadata": {},
     "output_type": "execute_result"
    }
   ],
   "source": [
    "recentCounter.ping(1)"
   ]
  },
  {
   "cell_type": "code",
   "execution_count": 54,
   "id": "2da09cb2-9891-41bd-be4d-497b3b2e7ba9",
   "metadata": {},
   "outputs": [
    {
     "data": {
      "text/plain": [
       "2"
      ]
     },
     "execution_count": 54,
     "metadata": {},
     "output_type": "execute_result"
    }
   ],
   "source": [
    "recentCounter.ping(100)"
   ]
  },
  {
   "cell_type": "code",
   "execution_count": 55,
   "id": "a03cfa4f-6507-46d9-b2b6-b60c5262d9b9",
   "metadata": {},
   "outputs": [
    {
     "data": {
      "text/plain": [
       "3"
      ]
     },
     "execution_count": 55,
     "metadata": {},
     "output_type": "execute_result"
    }
   ],
   "source": [
    "recentCounter.ping(3000)"
   ]
  },
  {
   "cell_type": "code",
   "execution_count": 56,
   "id": "ac4133c8-a120-47b1-a879-d91a5805abdb",
   "metadata": {},
   "outputs": [
    {
     "data": {
      "text/plain": [
       "3"
      ]
     },
     "execution_count": 56,
     "metadata": {},
     "output_type": "execute_result"
    }
   ],
   "source": [
    "recentCounter.ping(3002)"
   ]
  },
  {
   "cell_type": "code",
   "execution_count": 57,
   "id": "0839eeb0-2091-4c8a-8f7e-4d2b99f3e420",
   "metadata": {},
   "outputs": [
    {
     "data": {
      "text/plain": [
       "4"
      ]
     },
     "execution_count": 57,
     "metadata": {},
     "output_type": "execute_result"
    }
   ],
   "source": [
    "recentCounter.ping(3003)"
   ]
  },
  {
   "cell_type": "code",
   "execution_count": 59,
   "id": "e4f4e972-21d9-4ec1-b868-15d0583b3342",
   "metadata": {},
   "outputs": [
    {
     "data": {
      "text/plain": [
       "4"
      ]
     },
     "execution_count": 59,
     "metadata": {},
     "output_type": "execute_result"
    }
   ],
   "source": [
    "recentCounter.ping(3102)"
   ]
  },
  {
   "cell_type": "code",
   "execution_count": 32,
   "id": "b2d11af1-4598-4160-b875-b0f443b35df8",
   "metadata": {},
   "outputs": [
    {
     "data": {
      "text/plain": [
       "True"
      ]
     },
     "execution_count": 32,
     "metadata": {},
     "output_type": "execute_result"
    }
   ],
   "source": [
    "-2999<= recentCounter.recent_requests[0]<=1\n"
   ]
  },
  {
   "cell_type": "code",
   "execution_count": 12,
   "id": "e00ce745-9251-49e3-be45-f4c1d9d5b034",
   "metadata": {},
   "outputs": [],
   "source": [
    "recent_requests = recentCounter.recent_requests"
   ]
  },
  {
   "cell_type": "code",
   "execution_count": 20,
   "id": "f15bff71-96c9-4c79-a36a-b6bce55e7e0a",
   "metadata": {},
   "outputs": [
    {
     "name": "stdout",
     "output_type": "stream",
     "text": [
      "1\n",
      "1\n",
      "100\n",
      "2\n"
     ]
    }
   ],
   "source": [
    "count = 0\n",
    "for i in recent_requests:\n",
    "    print(i)\n",
    "    if -2900<=i<=100:\n",
    "        count+=1\n",
    "        print(count)"
   ]
  },
  {
   "cell_type": "code",
   "execution_count": null,
   "id": "7d116453-b15e-4b65-ba61-5e2320da3d8a",
   "metadata": {},
   "outputs": [],
   "source": [
    "print(count)"
   ]
  },
  {
   "cell_type": "code",
   "execution_count": 15,
   "id": "b3c0907f-5c79-4da5-adfe-6fc9be73e8b6",
   "metadata": {},
   "outputs": [
    {
     "data": {
      "text/plain": [
       "-2900"
      ]
     },
     "execution_count": 15,
     "metadata": {},
     "output_type": "execute_result"
    }
   ],
   "source": [
    "100-3000"
   ]
  },
  {
   "cell_type": "code",
   "execution_count": 21,
   "id": "9b51c179-8319-402a-9894-5b4769e10075",
   "metadata": {},
   "outputs": [
    {
     "data": {
      "text/plain": [
       "True"
      ]
     },
     "execution_count": 21,
     "metadata": {},
     "output_type": "execute_result"
    }
   ],
   "source": [
    "i=100\n",
    "-2900<=1<=100"
   ]
  },
  {
   "cell_type": "code",
   "execution_count": null,
   "id": "ba13c18e-1beb-4289-8c83-dfbcdf42c5eb",
   "metadata": {},
   "outputs": [],
   "source": []
  }
 ],
 "metadata": {
  "kernelspec": {
   "display_name": "Python 3 (ipykernel)",
   "language": "python",
   "name": "python3"
  },
  "language_info": {
   "codemirror_mode": {
    "name": "ipython",
    "version": 3
   },
   "file_extension": ".py",
   "mimetype": "text/x-python",
   "name": "python",
   "nbconvert_exporter": "python",
   "pygments_lexer": "ipython3",
   "version": "3.13.0"
  }
 },
 "nbformat": 4,
 "nbformat_minor": 5
}
