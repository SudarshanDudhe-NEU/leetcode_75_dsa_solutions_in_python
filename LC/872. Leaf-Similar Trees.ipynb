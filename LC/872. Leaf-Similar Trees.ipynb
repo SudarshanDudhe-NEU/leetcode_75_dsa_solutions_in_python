{
 "cells": [
  {
   "cell_type": "markdown",
   "id": "a507002b-f61a-4766-bf6c-cd4ba60787b5",
   "metadata": {},
   "source": [
    "# 872. Leaf-Similar Trees\n",
    "\n",
    "**Solved**  \n",
    "**Easy**\n",
    "\n",
    "**Topics**  \n",
    "_Companies_\n",
    "\n",
    "Consider all the leaves of a binary tree, from left to right order, the values of those leaves form a leaf value sequence."
   ]
  },
  {
   "cell_type": "code",
   "execution_count": 13,
   "id": "788e9df5-a88c-4012-bf3d-00e997eeee35",
   "metadata": {},
   "outputs": [],
   "source": [
    "from typing import Optional, List\n",
    "from collections import deque\n",
    "\n",
    "# Definition for a binary tree node.\n",
    "class TreeNode:\n",
    "    def __init__(self, val=0, left=None, right=None):\n",
    "        self.val = val\n",
    "        self.left = left\n",
    "        self.right = right\n",
    "\n",
    "def create_tree_from_level_order(data: List[Optional[int]]) -> Optional[TreeNode]:\n",
    "    if not data or data[0] is None:\n",
    "        return None\n",
    "    \n",
    "    root = TreeNode(data[0])  # Root node\n",
    "    queue = deque([root])     # Queue for level-order insertion\n",
    "    index = 1                 # Index in the data list\n",
    "    \n",
    "    while queue and index < len(data):\n",
    "        node = queue.popleft()  # Get the current node\n",
    "        \n",
    "        # Assign the left child if available\n",
    "        if index < len(data) and data[index] is not None:\n",
    "            node.left = TreeNode(data[index])\n",
    "            queue.append(node.left)\n",
    "        index += 1\n",
    "        \n",
    "        # Assign the right child if available\n",
    "        if index < len(data) and data[index] is not None:\n",
    "            node.right = TreeNode(data[index])\n",
    "            queue.append(node.right)\n",
    "        index += 1\n",
    "    \n",
    "    return root"
   ]
  },
  {
   "cell_type": "code",
   "execution_count": 14,
   "id": "b36c7436-4169-4cf1-81b3-902a885fe692",
   "metadata": {},
   "outputs": [
    {
     "name": "stdout",
     "output_type": "stream",
     "text": [
      "Tree 1 (Inorder Traversal):\n",
      "6 5 7 2 4 3 9 1 8 \n",
      "Tree 2 (Inorder Traversal):\n",
      "6 5 7 3 4 1 9 2 8 "
     ]
    }
   ],
   "source": [
    "# Level-order representations\n",
    "data1 = [3, 5, 1, 6, 2, 9, 8, None, None, 7, 4]\n",
    "data2 = [3, 5, 1, 6, 7, 4, 2, None, None, None, None, None, None, 9, 8]\n",
    "\n",
    "# Create the trees\n",
    "tree1 = create_tree_from_level_order(data1)\n",
    "tree2 = create_tree_from_level_order(data2)\n",
    "\n",
    "# Function to print the tree (inorder traversal for visualization)\n",
    "def inorder_traversal(root: Optional[TreeNode]):\n",
    "    if root:\n",
    "        inorder_traversal(root.left)\n",
    "        print(root.val, end=\" \")\n",
    "        inorder_traversal(root.right)\n",
    "\n",
    "print(\"Tree 1 (Inorder Traversal):\")\n",
    "inorder_traversal(tree1)\n",
    "print(\"\\nTree 2 (Inorder Traversal):\")\n",
    "inorder_traversal(tree2)"
   ]
  },
  {
   "cell_type": "markdown",
   "id": "2a56fdd5-e961-4010-8338-5391b88dd241",
   "metadata": {},
   "source": [
    "## Solution"
   ]
  },
  {
   "cell_type": "code",
   "execution_count": 38,
   "id": "02fe26ec-b220-4b9d-8f8a-007ff85b1ce7",
   "metadata": {},
   "outputs": [],
   "source": [
    "from typing import Optional\n",
    "# Definition for a binary tree node.\n",
    "class TreeNode:\n",
    "    def __init__(self, val=0, left=None, right=None):\n",
    "        self.val = val\n",
    "        self.left = left\n",
    "        self.right = right\n",
    "\n",
    "class Solution:\n",
    "    def get_leaves(self, root, leaves):\n",
    "        # Helper function to collect leaf nodes\n",
    "        if root:\n",
    "            if not root.left and not root.right:  # Check if it's a leaf node\n",
    "                leaves.append(root.val)\n",
    "            else:\n",
    "                self.get_leaves(root.left, leaves)\n",
    "                self.get_leaves(root.right, leaves)\n",
    "\n",
    "    def leafSimilar(self, root1: Optional[TreeNode], root2: Optional[TreeNode]) -> bool:\n",
    "        # Collect leaves from both trees\n",
    "        leaves1 = []\n",
    "        self.get_leaves(root1, leaves1)\n",
    "        \n",
    "        leaves2 = []\n",
    "        self.get_leaves(root2, leaves2)\n",
    "        \n",
    "        # Compare the leaf sequences\n",
    "        return leaves1 == leaves2"
   ]
  },
  {
   "cell_type": "code",
   "execution_count": null,
   "id": "5c25b22c-8a9f-4ecb-81d6-b7f8560a2a02",
   "metadata": {},
   "outputs": [],
   "source": []
  },
  {
   "cell_type": "code",
   "execution_count": 36,
   "id": "9f83c840-524f-4eb5-aca5-a3cd183f16e8",
   "metadata": {},
   "outputs": [
    {
     "data": {
      "text/plain": [
       "True"
      ]
     },
     "execution_count": 36,
     "metadata": {},
     "output_type": "execute_result"
    }
   ],
   "source": [
    "sol = Solution()\n",
    "sol.leafSimilar(tree1,tree2)"
   ]
  },
  {
   "cell_type": "code",
   "execution_count": null,
   "id": "38d7c215-db9c-4f48-8890-aeacaaeafdba",
   "metadata": {},
   "outputs": [],
   "source": []
  }
 ],
 "metadata": {
  "kernelspec": {
   "display_name": "Python 3 (ipykernel)",
   "language": "python",
   "name": "python3"
  },
  "language_info": {
   "codemirror_mode": {
    "name": "ipython",
    "version": 3
   },
   "file_extension": ".py",
   "mimetype": "text/x-python",
   "name": "python",
   "nbconvert_exporter": "python",
   "pygments_lexer": "ipython3",
   "version": "3.13.0"
  }
 },
 "nbformat": 4,
 "nbformat_minor": 5
}
