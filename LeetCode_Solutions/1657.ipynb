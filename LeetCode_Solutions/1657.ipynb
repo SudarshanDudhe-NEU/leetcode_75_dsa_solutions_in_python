{
 "cells": [
  {
   "cell_type": "markdown",
   "id": "72884f30-7713-4c95-97b8-c067333f52ee",
   "metadata": {},
   "source": [
    "# Determine if Two Strings Are Close"
   ]
  },
  {
   "cell_type": "code",
   "execution_count": 15,
   "id": "45799450-af3c-46ab-862c-938276b3c5b6",
   "metadata": {},
   "outputs": [
    {
     "data": {
      "text/plain": [
       "({'a', 'b', 'c'}, {'a', 'b', 'c'})"
      ]
     },
     "execution_count": 15,
     "metadata": {},
     "output_type": "execute_result"
    }
   ],
   "source": [
    "word1 = \"abc\"\n",
    "word2 = \"bca\"\n",
    "set(word1),set(word2)"
   ]
  },
  {
   "cell_type": "code",
   "execution_count": 19,
   "id": "7ebaab84-c349-42ac-96fb-884978d31cc5",
   "metadata": {},
   "outputs": [
    {
     "data": {
      "text/plain": [
       "True"
      ]
     },
     "execution_count": 19,
     "metadata": {},
     "output_type": "execute_result"
    }
   ],
   "source": [
    "set(word1)==set(word2)"
   ]
  },
  {
   "cell_type": "code",
   "execution_count": 18,
   "id": "596cf90b-fed0-428e-9045-e595897ae633",
   "metadata": {},
   "outputs": [
    {
     "data": {
      "text/plain": [
       "1"
      ]
     },
     "execution_count": 18,
     "metadata": {},
     "output_type": "execute_result"
    }
   ],
   "source": [
    "word1.count('a')"
   ]
  },
  {
   "cell_type": "code",
   "execution_count": 33,
   "id": "e6c5ff77-bebd-423c-ae33-e2a3b9eeab1b",
   "metadata": {},
   "outputs": [],
   "source": [
    "def isClose(word1, word2):\n",
    "    word1_set = set(word1)\n",
    "    word2_set = set(word2)\n",
    "    if word1_set != word2_set:\n",
    "        return False\n",
    "    else:\n",
    "        w1_count={}\n",
    "        w2_count={}\n",
    "        for i in word1_set:\n",
    "            w1_count[i] = word1.count(i)\n",
    "            w2_count[i] = word2.count(i)\n",
    "        print(w1_count,w2_count)\n",
    "        print(sorted(w1_count.values()))\n",
    "        print(sorted(w2_count.values()))\n",
    "        print(sorted(w1_count.values())==sorted(w2_count.values()))\n",
    "        if sorted(w1_count.values())==sorted(w2_count.values()):\n",
    "            return True\n",
    "        else: False"
   ]
  },
  {
   "cell_type": "code",
   "execution_count": 45,
   "id": "2d402fd4-a050-4fba-9a72-dcf072420848",
   "metadata": {},
   "outputs": [
    {
     "name": "stdout",
     "output_type": "stream",
     "text": [
      "{'b': 1, 'c': 1, 'a': 1} {'b': 1, 'c': 1, 'a': 1}\n",
      "[1, 1, 1]\n",
      "[1, 1, 1]\n",
      "True\n"
     ]
    },
    {
     "data": {
      "text/plain": [
       "True"
      ]
     },
     "execution_count": 45,
     "metadata": {},
     "output_type": "execute_result"
    }
   ],
   "source": [
    "isClose(word1,word2)"
   ]
  },
  {
   "cell_type": "code",
   "execution_count": 46,
   "id": "2a75158e-053d-4c29-a3df-14a91120202e",
   "metadata": {},
   "outputs": [
    {
     "data": {
      "text/plain": [
       "({'a', 'b', 'c'}, {'a', 'b', 'c', 'd'})"
      ]
     },
     "execution_count": 46,
     "metadata": {},
     "output_type": "execute_result"
    }
   ],
   "source": [
    "set(word1),set(word2)"
   ]
  },
  {
   "cell_type": "code",
   "execution_count": 48,
   "id": "e68c911f-e60d-4b0d-8bcb-ba5e1f214ab3",
   "metadata": {},
   "outputs": [
    {
     "data": {
      "text/plain": [
       "True"
      ]
     },
     "execution_count": 48,
     "metadata": {},
     "output_type": "execute_result"
    }
   ],
   "source": [
    "set(word1)!=set(word2)"
   ]
  },
  {
   "cell_type": "code",
   "execution_count": 44,
   "id": "1bdb45b4-0d45-45dc-8dc2-7828938e5a1a",
   "metadata": {},
   "outputs": [],
   "source": [
    "word1 = \"abc\"\n",
    "word2 = \"abcdd\""
   ]
  },
  {
   "cell_type": "code",
   "execution_count": 42,
   "id": "5cfbcdba-e590-4031-ab25-9221559ff490",
   "metadata": {},
   "outputs": [],
   "source": [
    "class Solution:\n",
    "    def closeStrings(self, word1: str, word2: str) -> bool:\n",
    "        word1_set = set(word1)\n",
    "        word2_set = set(word2)\n",
    "        if word1_set != word1_set:\n",
    "            return False\n",
    "        else:\n",
    "            w1_count={}\n",
    "            w2_count={}\n",
    "            for i in word1_set:\n",
    "                w1_count[i] = word1.count(i)\n",
    "                w2_count[i] = word2.count(i)\n",
    "            print(sorted(w1_count.values())==sorted(w2_count.values()))\n",
    "            return sorted(w1_count.values())==sorted(w2_count.values())"
   ]
  },
  {
   "cell_type": "code",
   "execution_count": 43,
   "id": "1d8d0929-c7ed-43aa-8d09-db5a7a8fcbaa",
   "metadata": {},
   "outputs": [
    {
     "name": "stdout",
     "output_type": "stream",
     "text": [
      "False\n",
      "False\n"
     ]
    }
   ],
   "source": [
    "s = Solution()\n",
    "print(s.closeStrings(word1,word2))"
   ]
  },
  {
   "cell_type": "code",
   "execution_count": null,
   "id": "cc350c81-faad-4620-bf84-91377f91adaf",
   "metadata": {},
   "outputs": [],
   "source": [
    "\"abc\""
   ]
  }
 ],
 "metadata": {
  "kernelspec": {
   "display_name": "Python 3 (ipykernel)",
   "language": "python",
   "name": "python3"
  },
  "language_info": {
   "codemirror_mode": {
    "name": "ipython",
    "version": 3
   },
   "file_extension": ".py",
   "mimetype": "text/x-python",
   "name": "python",
   "nbconvert_exporter": "python",
   "pygments_lexer": "ipython3",
   "version": "3.13.0"
  }
 },
 "nbformat": 4,
 "nbformat_minor": 5
}
