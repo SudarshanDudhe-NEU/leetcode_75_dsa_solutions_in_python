{
 "cells": [
  {
   "cell_type": "markdown",
   "id": "82168889-463e-481a-87a6-ae1388311a89",
   "metadata": {},
   "source": [
    "206. Reverse Linked List\n",
    "Solved\n",
    "Easy\n",
    "Topics\n",
    "Companies\n",
    "Given the head of a singly linked list, reverse the list, and return the reversed list.\n",
    "\n",
    " \n",
    "\n",
    "Example 1:\n",
    "\n",
    "\n",
    "Input: head = [1,2,3,4,5]\n",
    "Output: [5,4,3,2,1]\n",
    "Example 2:\n",
    "\n",
    "\n",
    "Input: head = [1,2]\n",
    "Output: [2,1]\n",
    "Example 3:\n",
    "\n",
    "Input: head = []\n",
    "Output: []"
   ]
  },
  {
   "cell_type": "code",
   "execution_count": 25,
   "id": "42d9b455-ca10-4298-88f6-5e91e530c83d",
   "metadata": {},
   "outputs": [
    {
     "name": "stdout",
     "output_type": "stream",
     "text": [
      "1 -> 2 -> 3 -> 4 -> 5 -> None\n"
     ]
    }
   ],
   "source": [
    "# Define a Node class\n",
    "class Node:\n",
    "    def __init__(self, value):\n",
    "        self.value = value\n",
    "        self.next = None\n",
    "\n",
    "# Function to create a linked list from a list\n",
    "def create_linked_list(values):\n",
    "    if not values:\n",
    "        return None  # If the input list is empty, return None\n",
    "    head = Node(values[0])  # Create the head node\n",
    "    current = head  # Start with the head node\n",
    "    for value in values[1:]:\n",
    "        current.next = Node(value)  # Create and link the next node\n",
    "        current = current.next  # Move to the next node\n",
    "    return head\n",
    "\n",
    "# Function to print the linked list\n",
    "def print_linked_list(head):\n",
    "    current = head\n",
    "    while current:\n",
    "        print(current.value, end=\" -> \")\n",
    "        current = current.next\n",
    "    print(\"None\")\n",
    "\n",
    "# Input list\n",
    "head_values = [1,2,3,4,5]\n",
    "\n",
    "# Create the linked list\n",
    "linked_list_head = create_linked_list(head_values)\n",
    "\n",
    "# Print the linked list\n",
    "print_linked_list(linked_list_head)"
   ]
  },
  {
   "cell_type": "code",
   "execution_count": 30,
   "id": "e43f0db2-4d91-4f5e-96cd-39d693444e8d",
   "metadata": {},
   "outputs": [],
   "source": [
    "from typing import Optional\n",
    "\n",
    "# Definition for singly-linked list.\n",
    "class ListNode:\n",
    "    def __init__(self, val=0, next=None):\n",
    "        self.val = val\n",
    "        self.next = next\n",
    "        \n",
    "class Solution:\n",
    "    def reverseList(self, head: Optional[ListNode]) -> Optional[ListNode]:\n",
    "        if not head and not head.next:\n",
    "            return head\n",
    "        p, q = None, head\n",
    "        while q:\n",
    "            r = q.next\n",
    "            q.next = p\n",
    "            p = q\n",
    "            q = r\n",
    "        return p\n",
    "            "
   ]
  },
  {
   "cell_type": "code",
   "execution_count": 31,
   "id": "e3eed953-91b5-494e-9604-4cb6b9a48d4e",
   "metadata": {},
   "outputs": [
    {
     "name": "stdout",
     "output_type": "stream",
     "text": [
      "<__main__.Node object at 0x10726da50>\n",
      "5 -> 4 -> 3 -> 2 -> 1 -> None\n"
     ]
    }
   ],
   "source": [
    "# Input list\n",
    "head_values = [1,2,3,4,5]\n",
    "\n",
    "# Create the linked list\n",
    "linked_list_head = create_linked_list(head_values)\n",
    "\n",
    "sol = Solution()\n",
    "head_sol = sol.reverseList(linked_list_head)\n",
    "print(head_sol)\n",
    "print_linked_list(head_sol)"
   ]
  },
  {
   "cell_type": "code",
   "execution_count": null,
   "id": "e11ec3dc-7fb4-4427-8e56-9f7156ae03af",
   "metadata": {},
   "outputs": [],
   "source": [
    "# Input list\n",
    "# head_values = [1, 3, 4, 7, 1, 2, 6]\n",
    "# head_values = [1,2,3,4]\n",
    "# head_values = [1,2,3,4,5]\n",
    "head_values = [1,2,3,4,5,6,7,8]\n",
    "\n",
    "# Create the linked list\n",
    "linked_list_head = create_linked_list(head_values)\n",
    "print_linked_list(linked_list_head)"
   ]
  }
 ],
 "metadata": {
  "kernelspec": {
   "display_name": "Python 3 (ipykernel)",
   "language": "python",
   "name": "python3"
  },
  "language_info": {
   "codemirror_mode": {
    "name": "ipython",
    "version": 3
   },
   "file_extension": ".py",
   "mimetype": "text/x-python",
   "name": "python",
   "nbconvert_exporter": "python",
   "pygments_lexer": "ipython3",
   "version": "3.13.1"
  }
 },
 "nbformat": 4,
 "nbformat_minor": 5
}
