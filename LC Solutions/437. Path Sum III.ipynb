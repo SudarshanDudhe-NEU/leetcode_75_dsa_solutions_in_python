{
 "cells": [
  {
   "cell_type": "markdown",
   "id": "9ded7c9b-0fb4-4c83-b922-2d0d40dd9a16",
   "metadata": {},
   "source": [
    "# 437. Path Sum III\n",
    "\n",
    "**Medium**\n",
    "\n",
    "**Topics**  \n",
    "_Companies_\n",
    "\n",
    "Given the root of a binary tree and an integer `targetSum`, return the number of paths where the sum of the values along the path equals `targetSum`.\n",
    "\n",
    "The path does not need to start or end at the root or a leaf, but it must go downwards (i.e., traveling only from parent nodes to child nodes)."
   ]
  },
  {
   "cell_type": "code",
   "execution_count": 12,
   "id": "29decda8-bed3-4d06-a35c-6ccb43b3a02a",
   "metadata": {},
   "outputs": [],
   "source": [
    "from typing import Optional, List\n",
    "from collections import deque\n",
    "\n",
    "# Definition for a binary tree node.\n",
    "class TreeNode:\n",
    "    def __init__(self, val=0, left=None, right=None):\n",
    "        self.val = val\n",
    "        self.left = left\n",
    "        self.right = right\n",
    "\n",
    "def create_tree_from_level_order(data: List[Optional[int]]) -> Optional[TreeNode]:\n",
    "    if not data or data[0] is None:\n",
    "        return None\n",
    "    \n",
    "    root = TreeNode(data[0])  # Root node\n",
    "    queue = deque([root])     # Queue for level-order insertion\n",
    "    index = 1                 # Index in the data list\n",
    "    \n",
    "    while queue and index < len(data):\n",
    "        node = queue.popleft()  # Get the current node\n",
    "        \n",
    "        # Assign the left child if available\n",
    "        if index < len(data) and data[index] is not None:\n",
    "            node.left = TreeNode(data[index])\n",
    "            queue.append(node.left)\n",
    "        index += 1\n",
    "        \n",
    "        # Assign the right child if available\n",
    "        if index < len(data) and data[index] is not None:\n",
    "            node.right = TreeNode(data[index])\n",
    "            queue.append(node.right)\n",
    "        index += 1\n",
    "    \n",
    "    return root"
   ]
  },
  {
   "cell_type": "code",
   "execution_count": 13,
   "id": "31023ed8-e821-49d8-85be-5f1756608ae9",
   "metadata": {},
   "outputs": [
    {
     "name": "stdout",
     "output_type": "stream",
     "text": [
      "Tree 1 (Inorder Traversal):\n",
      "6 5 7 2 4 3 9 1 8 \n",
      "Tree 2 (Inorder Traversal):\n",
      "6 5 7 3 4 1 9 2 8 "
     ]
    }
   ],
   "source": [
    "# Level-order representations\n",
    "data1 = [3, 5, 1, 6, 2, 9, 8, None, None, 7, 4]\n",
    "data2 = [3, 5, 1, 6, 7, 4, 2, None, None, None, None, None, None, 9, 8]\n",
    "\n",
    "# Create the trees\n",
    "tree1 = create_tree_from_level_order(data1)\n",
    "tree2 = create_tree_from_level_order(data2)\n",
    "\n",
    "# Function to print the tree (inorder traversal for visualization)\n",
    "def inorder_traversal(root: Optional[TreeNode]):\n",
    "    if root:\n",
    "        inorder_traversal(root.left)\n",
    "        print(root.val, end=\" \")\n",
    "        inorder_traversal(root.right)\n",
    "\n",
    "print(\"Tree 1 (Inorder Traversal):\")\n",
    "inorder_traversal(tree1)\n",
    "print(\"\\nTree 2 (Inorder Traversal):\")\n",
    "inorder_traversal(tree2)"
   ]
  },
  {
   "cell_type": "markdown",
   "id": "719ff64a-3821-4522-a195-abb1598f1445",
   "metadata": {},
   "source": [
    "## Solution"
   ]
  },
  {
   "cell_type": "code",
   "execution_count": 30,
   "id": "c6bb9945-65b2-4044-ac63-9fbaa454ca01",
   "metadata": {},
   "outputs": [
    {
     "ename": "KeyError",
     "evalue": "1",
     "output_type": "error",
     "traceback": [
      "\u001b[0;31m---------------------------------------------------------------------------\u001b[0m",
      "\u001b[0;31mKeyError\u001b[0m                                  Traceback (most recent call last)",
      "Cell \u001b[0;32mIn[30], line 2\u001b[0m\n\u001b[1;32m      1\u001b[0m pathSums \u001b[38;5;241m=\u001b[39m {\u001b[38;5;241m0\u001b[39m:\u001b[38;5;241m1\u001b[39m}\n\u001b[0;32m----> 2\u001b[0m \u001b[43mpathSums\u001b[49m\u001b[43m[\u001b[49m\u001b[38;5;241;43m1\u001b[39;49m\u001b[43m]\u001b[49m\u001b[38;5;241m+\u001b[39m\u001b[38;5;241m=\u001b[39m\u001b[38;5;241m1\u001b[39m\n\u001b[1;32m      3\u001b[0m pathSums\u001b[38;5;241m.\u001b[39mget(\u001b[38;5;241m0\u001b[39m,\u001b[38;5;241m0\u001b[39m)\n",
      "\u001b[0;31mKeyError\u001b[0m: 1"
     ]
    }
   ],
   "source": [
    "pathSums = {0:1}\n",
    "pathSums[1]+=1\n",
    "pathSums.get(0,0)"
   ]
  },
  {
   "cell_type": "code",
   "execution_count": 46,
   "id": "8afb3435-2256-4dc5-936d-eb79a0f1a582",
   "metadata": {},
   "outputs": [],
   "source": [
    "from typing import Optional\n",
    "\n",
    "class Solution:\n",
    "    def pathSum(self, root: Optional[TreeNode], targetSum: int) -> int:\n",
    "        pathSums = {0:1}\n",
    "        def dfs(root, currentSum):\n",
    "            pathSumCount = 0\n",
    "            if root:\n",
    "                currentSum += root.val\n",
    "                pathSumCount = pathSums.get(currentSum-targetSum, 0)\n",
    "                pathSums[currentSum] = pathSums.get(currentSum, 0) + 1\n",
    "                # prefix_sum_count[current_sum] = prefix_sum_count.get(current_sum, 0) + 1\n",
    "                print(pathSums)\n",
    "                pathSumCount += dfs(root.left, currentSum) + dfs(root.right, currentSum)\n",
    "                pathSums[currentSum] -= 1\n",
    "            return pathSumCount\n",
    "        pathSumCount = dfs(root,0)\n",
    "        return pathSumCount\n",
    "        "
   ]
  },
  {
   "cell_type": "code",
   "execution_count": 47,
   "id": "f9f23db4-4033-4b3c-82d8-00331a1a4e3d",
   "metadata": {},
   "outputs": [
    {
     "name": "stdout",
     "output_type": "stream",
     "text": [
      "3 3 -2 5 2 1 10 -3 11 "
     ]
    }
   ],
   "source": [
    "data3 = [10,5,-3,3,2,None,11,3,-2,None,1]\n",
    "# data1 = [3, 5, 1, 6, 2, 9, 8, None, None, 7, 4]\n",
    "\n",
    "# Create the trees\n",
    "tree3 = create_tree_from_level_order(data3)\n",
    "inorder_traversal(tree3)\n"
   ]
  },
  {
   "cell_type": "code",
   "execution_count": 48,
   "id": "be42d66c-0fef-4a6a-b202-2f11aaab7e10",
   "metadata": {},
   "outputs": [
    {
     "name": "stdout",
     "output_type": "stream",
     "text": [
      "{0: 1, 10: 1}\n",
      "{0: 1, 10: 1, 15: 1}\n",
      "{0: 1, 10: 1, 15: 1, 18: 1}\n",
      "{0: 1, 10: 1, 15: 1, 18: 1, 21: 1}\n",
      "{0: 1, 10: 1, 15: 1, 18: 1, 21: 0, 16: 1}\n",
      "{0: 1, 10: 1, 15: 1, 18: 0, 21: 0, 16: 0, 17: 1}\n",
      "{0: 1, 10: 1, 15: 1, 18: 1, 21: 0, 16: 0, 17: 1}\n",
      "{0: 1, 10: 1, 15: 0, 18: 0, 21: 0, 16: 0, 17: 0, 7: 1}\n",
      "{0: 1, 10: 1, 15: 0, 18: 1, 21: 0, 16: 0, 17: 0, 7: 1}\n"
     ]
    },
    {
     "data": {
      "text/plain": [
       "3"
      ]
     },
     "execution_count": 48,
     "metadata": {},
     "output_type": "execute_result"
    }
   ],
   "source": [
    "sol = Solution()\n",
    "sol.pathSum(tree3, 8)"
   ]
  },
  {
   "cell_type": "code",
   "execution_count": 8,
   "id": "43db3a53-ba2b-4024-bb12-9068cebf1466",
   "metadata": {},
   "outputs": [
    {
     "data": {
      "text/plain": [
       "1"
      ]
     },
     "execution_count": 8,
     "metadata": {},
     "output_type": "execute_result"
    }
   ],
   "source": [
    "list_i = []\n",
    "list_i.append(1)\n",
    "# list_i.pop()\n",
    "sum(list_i)"
   ]
  },
  {
   "cell_type": "code",
   "execution_count": 9,
   "id": "e4012d61-7334-4eea-a372-1f833813e5a1",
   "metadata": {},
   "outputs": [],
   "source": [
    "paths_hashtable={\"a\":1}"
   ]
  },
  {
   "cell_type": "code",
   "execution_count": 16,
   "id": "e8e8657f-daf6-455f-8116-e200adb075fa",
   "metadata": {},
   "outputs": [
    {
     "data": {
      "text/plain": [
       "True"
      ]
     },
     "execution_count": 16,
     "metadata": {},
     "output_type": "execute_result"
    }
   ],
   "source": [
    "\"a\" in paths_hashtable.keys()"
   ]
  },
  {
   "cell_type": "code",
   "execution_count": null,
   "id": "dbaea674-8eac-40e3-81de-8495b85dd1da",
   "metadata": {},
   "outputs": [],
   "source": [
    "def pathSum(self, root: Optional[TreeNode], targetSum: int) -> int:\n",
    "\n",
    "\t# prefix sums encountered in current path\n",
    "\tsums = defaultdict(int)\n",
    "\tsums[0] = 1\n",
    "\n",
    "\tdef dfs(root, total):\n",
    "\t\tcount = 0\n",
    "\t\tif root:\n",
    "\t\t\ttotal += root.val\n",
    "\t\t\t# Can remove sums[currSum-targetSum] prefixSums to get target\n",
    "\t\t\tcount = sums[total-targetSum]\n",
    "\n",
    "\t\t\t# Add value of this prefixSum\n",
    "\t\t\tsums[total] += 1\n",
    "\t\t\t# Explore children\n",
    "\t\t\tcount += dfs(root.left, total) + dfs(root.right, total)\n",
    "\t\t\t# Remove value of this prefixSum (path's been explored)\n",
    "\t\t\tsums[total] -= 1\n",
    "\n",
    "\t\treturn count\n",
    "\n",
    "\treturn dfs(root, 0)"
   ]
  }
 ],
 "metadata": {
  "kernelspec": {
   "display_name": "Python 3 (ipykernel)",
   "language": "python",
   "name": "python3"
  },
  "language_info": {
   "codemirror_mode": {
    "name": "ipython",
    "version": 3
   },
   "file_extension": ".py",
   "mimetype": "text/x-python",
   "name": "python",
   "nbconvert_exporter": "python",
   "pygments_lexer": "ipython3",
   "version": "3.13.1"
  }
 },
 "nbformat": 4,
 "nbformat_minor": 5
}
