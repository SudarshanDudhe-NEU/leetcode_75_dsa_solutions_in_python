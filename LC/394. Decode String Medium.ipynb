{
 "cells": [
  {
   "cell_type": "markdown",
   "id": "52b28621-0365-423b-8626-0cd564ea0dc2",
   "metadata": {},
   "source": [
    "394. Decode String\n",
    "Medium\n",
    "Topics\n",
    "Companies\n",
    "Given an encoded string, return its decoded string.\n",
    "\n",
    "The encoding rule is: k[encoded_string], where the encoded_string inside the square brackets is being repeated exactly k times. Note that k is guaranteed to be a positive integer.\n",
    "\n",
    "You may assume that the input string is always valid; there are no extra white spaces, square brackets are well-formed, etc. Furthermore, you may assume that the original data does not contain any digits and that digits are only for those repeat numbers, k. For example, there will not be input like 3a or 2[4].\n",
    "\n",
    "The test cases are generated so that the length of the output will never exceed 105.\n",
    "\n",
    " \n",
    "\n",
    "Example 1:\n",
    "\n",
    "Input: s = \"3[a]2[bc]\"\n",
    "Output: \"aaabcbc\"\n",
    "Example 2:\n",
    "\n",
    "Input: s = \"3[a2[c]]\"\n",
    "Output: \"accaccacc\"\n",
    "Example 3:\n",
    "\n",
    "Input: s = \"2[abc]3[cd]ef\"\n",
    "Output: \"abcabccdcdcdef\"\n"
   ]
  },
  {
   "cell_type": "code",
   "execution_count": null,
   "id": "159c0fb7-1bc5-4ea8-a3ab-d2f80d6e683d",
   "metadata": {},
   "outputs": [],
   "source": [
    "'abcabccdefcdefcdef'\n",
    "aaabcbc\n",
    "accaccacc\n",
    "abcabccdcdcdef\n"
   ]
  },
  {
   "cell_type": "code",
   "execution_count": 1,
   "id": "8560480b-2e8e-408d-9f00-e557f63d60c6",
   "metadata": {},
   "outputs": [],
   "source": [
    "def decodeString(s: str) -> str:\n",
    "    pass"
   ]
  },
  {
   "cell_type": "code",
   "execution_count": 106,
   "id": "0afb00d3-9b18-4806-bfa1-c9897e31f6ba",
   "metadata": {},
   "outputs": [],
   "source": [
    "s_list = [\"3[a]2[bc]\",\"3[a2[c]]\",\"2[abc]3[cd]ef\",\"abc3[cd]xyz\"]"
   ]
  },
  {
   "cell_type": "code",
   "execution_count": 131,
   "id": "cb1b3913-a52c-4641-aaf8-0f818de380a0",
   "metadata": {},
   "outputs": [],
   "source": [
    "\n",
    "def decode(string):\n",
    "    substring = []\n",
    "    braces_count = 0\n",
    "    decoded = []\n",
    "    string_list = list(string)\n",
    "    digit = 0\n",
    "    for char in string_list[::-1]:\n",
    "        if char.isdigit():\n",
    "            digit = int(char)\n",
    "            substring_joined = \"\".join(substring[::-1])*digit\n",
    "            if braces_count==0:\n",
    "                decoded.append(substring_joined)\n",
    "            substring = []\n",
    "            substring.append(substring_joined)\n",
    "            # print(decoded)\n",
    "            # digit = 0\n",
    "        elif char == \"[\":\n",
    "            braces_count -= 1\n",
    "            continue\n",
    "        elif char == \"]\":\n",
    "            braces_count += 1 \n",
    "            if len(substring) and digit>0:\n",
    "                substring = []\n",
    "            elif len(substring) and digit==0:\n",
    "                substring_joined = \"\".join(substring[::-1])\n",
    "                decoded.append(substring_joined)\n",
    "                substring = []\n",
    "                # substring.append(substring_joined)    \n",
    "        else:\n",
    "            substring.append(char)\n",
    "    if string.isalnum() and len(substring)>1:\n",
    "        remaining = substring[1:]\n",
    "        # print(''.join(remaining[::-1]))\n",
    "        decoded.append(''.join(remaining[::-1]))\n",
    "    # print(substring)\n",
    "    return \"\".join(decoded[::-1])"
   ]
  },
  {
   "cell_type": "code",
   "execution_count": 132,
   "id": "3b5f5550-db75-42c2-acf0-76edf17f2e2d",
   "metadata": {},
   "outputs": [
    {
     "name": "stdout",
     "output_type": "stream",
     "text": [
      "aaabcbc\n",
      "accaccacc\n",
      "abcabccdcdcdef\n",
      "abccdcdcdxyz\n"
     ]
    }
   ],
   "source": [
    "for s in s_list:\n",
    "    s.isalnum\n",
    "    res = decode(s)\n",
    "    print(res)"
   ]
  },
  {
   "cell_type": "code",
   "execution_count": null,
   "id": "03066c98-cfda-4951-8ef1-60962bbbf8f4",
   "metadata": {},
   "outputs": [],
   "source": [
    "['cdcdcd', 'c', 'b', 'a']\n",
    "cdcdcdxyz\n",
    "abccdcdcdxyz"
   ]
  },
  {
   "cell_type": "code",
   "execution_count": 80,
   "id": "dedb1c13-884a-4c0a-9d16-c4c75f1ab482",
   "metadata": {},
   "outputs": [
    {
     "name": "stdout",
     "output_type": "stream",
     "text": [
      "3\n"
     ]
    }
   ],
   "source": [
    "string = \"3a\"\n",
    "string_list = list(string)\n",
    "for char in string_list[::-1]:\n",
    "    if char.isdigit():\n",
    "        print(char)"
   ]
  },
  {
   "cell_type": "code",
   "execution_count": 21,
   "id": "1556d820-4eda-4b11-b296-76a1e76c2c79",
   "metadata": {},
   "outputs": [
    {
     "data": {
      "text/plain": [
       "['3', 'a']"
      ]
     },
     "execution_count": 21,
     "metadata": {},
     "output_type": "execute_result"
    }
   ],
   "source": [
    "string_list"
   ]
  },
  {
   "cell_type": "code",
   "execution_count": 133,
   "id": "6d30ac90-b37a-4726-86a4-36e4d337077b",
   "metadata": {},
   "outputs": [
    {
     "data": {
      "text/plain": [
       "False"
      ]
     },
     "execution_count": 133,
     "metadata": {},
     "output_type": "execute_result"
    }
   ],
   "source": [
    "\"abc3[cd]xyz\".isalnum()"
   ]
  },
  {
   "cell_type": "code",
   "execution_count": null,
   "id": "f22923fd-6b6c-4764-9ec4-de9965f5232a",
   "metadata": {},
   "outputs": [],
   "source": []
  }
 ],
 "metadata": {
  "kernelspec": {
   "display_name": "Python 3 (ipykernel)",
   "language": "python",
   "name": "python3"
  },
  "language_info": {
   "codemirror_mode": {
    "name": "ipython",
    "version": 3
   },
   "file_extension": ".py",
   "mimetype": "text/x-python",
   "name": "python",
   "nbconvert_exporter": "python",
   "pygments_lexer": "ipython3",
   "version": "3.13.0"
  }
 },
 "nbformat": 4,
 "nbformat_minor": 5
}
