{
 "cells": [
  {
   "cell_type": "markdown",
   "id": "0125dd23-0ce8-44fe-ab90-e8294b1b0c8f",
   "metadata": {},
   "source": [
    "# 2095. Delete the Middle Node of a Linked List\n",
    "\n",
    "Problem Statement\n",
    "\n",
    "You are given the head of a linked list. Delete the middle node, and return the head of the modified linked list.\n",
    "\n",
    "The middle node of a linked list of size n is the ⌊n / 2⌋th node from the start using 0-based indexing, where ⌊x⌋ denotes the largest integer less than or equal to x.\n",
    "\n",
    "For n = 1, 2, 3, 4, and 5, the middle nodes are 0, 1, 1, 2, and 2, respectively.\n",
    "\n",
    "\n",
    "Examples\n",
    "\n",
    "Example 1\n",
    "\n",
    "Input:\n",
    "head = [1,3,4,7,1,2,6]\n",
    "Output:\n",
    "[1,3,4,1,2,6]\n",
    "\n",
    "Explanation:\n",
    "\t•\tThe linked list has n = 7 nodes.\n",
    "\t•\tThe node at index 3 (value 7) is the middle node.\n",
    "\t•\tThe linked list after removing the middle node: [1, 3, 4, 1, 2, 6]."
   ]
  },
  {
   "cell_type": "code",
   "execution_count": 27,
   "id": "720769c6-a819-4a93-945d-3709c75350a1",
   "metadata": {},
   "outputs": [
    {
     "name": "stdout",
     "output_type": "stream",
     "text": [
      "1 -> 3 -> 4 -> 7 -> 1 -> 2 -> 6 -> None\n"
     ]
    }
   ],
   "source": [
    "# Define a Node class\n",
    "class Node:\n",
    "    def __init__(self, value):\n",
    "        self.value = value\n",
    "        self.next = None\n",
    "\n",
    "# Function to create a linked list from a list\n",
    "def create_linked_list(values):\n",
    "    if not values:\n",
    "        return None  # If the input list is empty, return None\n",
    "    head = Node(values[0])  # Create the head node\n",
    "    current = head  # Start with the head node\n",
    "    for value in values[1:]:\n",
    "        current.next = Node(value)  # Create and link the next node\n",
    "        current = current.next  # Move to the next node\n",
    "    return head\n",
    "\n",
    "# Function to print the linked list\n",
    "def print_linked_list(head):\n",
    "    current = head\n",
    "    while current:\n",
    "        print(current.value, end=\" -> \")\n",
    "        current = current.next\n",
    "    print(\"None\")\n",
    "\n",
    "# Input list\n",
    "head_values = [1, 3, 4, 7, 1, 2, 6]\n",
    "\n",
    "# Create the linked list\n",
    "linked_list_head = create_linked_list(head_values)\n",
    "\n",
    "# Print the linked list\n",
    "print_linked_list(linked_list_head)"
   ]
  },
  {
   "cell_type": "code",
   "execution_count": 36,
   "id": "7b97ed69-2b11-491f-ac1e-4f35526f2392",
   "metadata": {},
   "outputs": [],
   "source": [
    "from typing import Optional\n",
    "\n",
    "class Solution:\n",
    "    def deleteMiddle(self, head: Optional[ListNode]) -> Optional[ListNode]:\n",
    "        slow_current = fast_current = head\n",
    "        while fast_current != None:\n",
    "            print(fast_current.value, slow_current.value)\n",
    "            if fast_current and fast_current.next:\n",
    "                fast_current = fast_current.next.next\n",
    "                if fast_current and fast_current.next:\n",
    "                    slow_current = slow_current.next\n",
    "                else:\n",
    "                    slow_current.next = slow_current.next.next\n",
    "            else:\n",
    "                fast_current = None\n",
    "        \n",
    "        return head"
   ]
  },
  {
   "cell_type": "code",
   "execution_count": 41,
   "id": "aa9db3b2-5c2e-4e89-aa40-0b2be003dd02",
   "metadata": {},
   "outputs": [],
   "source": [
    "# Input list\n",
    "# head_values = [1, 3, 4, 7, 1, 2, 6]\n",
    "# head_values = [1,2,3,4]\n",
    "head_values = [2,1]\n",
    "\n",
    "# Create the linked list\n",
    "linked_list_head = create_linked_list(head_values)\n"
   ]
  },
  {
   "cell_type": "code",
   "execution_count": 42,
   "id": "8b37bda5-8b6f-4347-a84c-a2476b34e353",
   "metadata": {},
   "outputs": [
    {
     "name": "stdout",
     "output_type": "stream",
     "text": [
      "2 2\n",
      "<__main__.Node object at 0x1048f00b0>\n",
      "2 -> None\n"
     ]
    }
   ],
   "source": [
    "sol = Solution()\n",
    "head_sol = sol.deleteMiddle(linked_list_head)\n",
    "print(head_sol)\n",
    "print_linked_list(head_sol)"
   ]
  },
  {
   "cell_type": "code",
   "execution_count": null,
   "id": "53f6cb6a-f118-4191-a632-8e4cd4daf6fc",
   "metadata": {},
   "outputs": [],
   "source": []
  },
  {
   "cell_type": "code",
   "execution_count": null,
   "id": "7909d41a-319b-4875-a402-ed5179faa947",
   "metadata": {},
   "outputs": [],
   "source": []
  }
 ],
 "metadata": {
  "kernelspec": {
   "display_name": "Python 3 (ipykernel)",
   "language": "python",
   "name": "python3"
  },
  "language_info": {
   "codemirror_mode": {
    "name": "ipython",
    "version": 3
   },
   "file_extension": ".py",
   "mimetype": "text/x-python",
   "name": "python",
   "nbconvert_exporter": "python",
   "pygments_lexer": "ipython3",
   "version": "3.13.0"
  }
 },
 "nbformat": 4,
 "nbformat_minor": 5
}
