{
 "cells": [
  {
   "cell_type": "markdown",
   "id": "224fb7d3",
   "metadata": {
    "vscode": {
     "languageId": "markdown"
    }
   },
   "source": [
    "# 841. Keys and Rooms\n",
    "\n",
    "**Difficulty:** Medium  \n",
    "**Topics:** Graph, Depth-First Search (DFS), Breadth-First Search (BFS)  \n",
    "\n",
    "There are `n` rooms labeled from `0` to `n - 1` and all the rooms are locked except for room `0`. Your goal is to visit all the rooms. However, you cannot enter a locked room without having its key.\n",
    "\n",
    "When you visit a room, you may find a set of distinct keys in it. Each key has a number on it, denoting which room it unlocks, and you can take all of them with you to unlock the other rooms.\n",
    "\n",
    "Given an array `rooms` where `rooms[i]` is the set of keys that you can obtain if you visited room `i`, return `true` if you can visit all the rooms, or `false` otherwise.\n",
    "\n",
    "---\n",
    "\n",
    "## Examples\n",
    "\n",
    "### Example 1:\n",
    "**Input:**  \n",
    "`rooms = [[1],[2],[3],[]]`  \n",
    "**Output:**  \n",
    "`true`  \n",
    "\n",
    "**Explanation:**  \n",
    "- We visit room `0` and pick up key `1`.  \n",
    "- We then visit room `1` and pick up key `2`.  \n",
    "- We then visit room `2` and pick up key `3`.  \n",
    "- We then visit room `3`.  \n",
    "\n",
    "Since we were able to visit every room, we return `true`.\n",
    "\n",
    "---\n",
    "\n",
    "### Example 2:\n",
    "**Input:**  \n",
    "`rooms = [[1,3],[3,0,1],[2],[0]]`  \n",
    "**Output:**  \n",
    "`false`  \n",
    "\n",
    "**Explanation:**  \n",
    "We cannot enter room number `2` since the only key that unlocks it is in that room.\n"
   ]
  },
  {
   "cell_type": "code",
   "execution_count": 20,
   "id": "176530f6",
   "metadata": {},
   "outputs": [
    {
     "name": "stdout",
     "output_type": "stream",
     "text": [
      "Current directory: /Users/sudarshan/courses/PSA/leetcode_75_dsa_solutions_in_python/LeetCode_Solutions/Graphs\n",
      "Project root directory added to sys.path: /Users/sudarshan/courses/PSA/leetcode_75_dsa_solutions_in_python\n"
     ]
    }
   ],
   "source": [
    "import sys\n",
    "import os\n",
    "\t\t\n",
    "# Display the response nicely\n",
    "from IPython.display import display, Markdown\n",
    "\n",
    "# Get the current working directory\n",
    "current_dir = os.getcwd()\n",
    "print(f\"Current directory: {current_dir}\")\n",
    "\n",
    "project_root = os.path.abspath(os.path.join(current_dir, '../..'))  # Go up two levels from Graphs folder\n",
    "sys.path.append(project_root)\n",
    "print(f\"Project root directory added to sys.path: {project_root}\")\n",
    "from LeetCode_Solutions.Query_bot import query_ollama\n",
    "\n",
    "# Now try importing\n",
    "def ask_ollama(query):\t\n",
    "\ttry:\n",
    "\t\tresponse = query_ollama(query)\n",
    "\t\tdisplay(Markdown(f\"\"\"\n",
    "\t\t### Response:\n",
    "\t\t{response}\n",
    "\t\t\"\"\"))\n",
    "\texcept ModuleNotFoundError as e:\n",
    "\t\tprint(f\"Import error: {e}\")\n",
    "\t\tprint(\"Python path:\", sys.path)\n"
   ]
  },
  {
   "cell_type": "code",
   "execution_count": 21,
   "id": "b4db270e",
   "metadata": {},
   "outputs": [
    {
     "name": "stdout",
     "output_type": "stream",
     "text": [
      "0 1 2 3 True\n",
      "0 1 3 False\n"
     ]
    }
   ],
   "source": [
    "from typing import List\n",
    " \n",
    "class Solution:\n",
    "    def canVisitAllRooms(self, rooms: List[List[int]]) -> bool:\n",
    "        rooms_visited = set()\n",
    "        def dfs( node):\n",
    "            if node in rooms_visited:\n",
    "                return\n",
    "            print(node, end=\" \")  # Process node\n",
    "            rooms_visited.add(node)\n",
    "            for neighbor in rooms[node]:\n",
    "                dfs(neighbor)\n",
    "        dfs(0)\n",
    "        return len(rooms) == len(rooms_visited)\n",
    "\n",
    "# Example Test Cases\n",
    "sol = Solution()\n",
    "print(sol.canVisitAllRooms([[1],[2],[3],[]]))  # Output: True\n",
    "print(sol.canVisitAllRooms([[1,3],[3,0,1],[2],[0]]))  # Output: False"
   ]
  },
  {
   "cell_type": "code",
   "execution_count": 22,
   "id": "31442d41",
   "metadata": {},
   "outputs": [
    {
     "name": "stdout",
     "output_type": "stream",
     "text": [
      "0 2 1 True\n"
     ]
    }
   ],
   "source": [
    "# rooms = [[1],[2],[3],[]]\n",
    "# rooms = [[1,3],[3,0,1],[2],[0]]\n",
    "rooms = [[2],[],[1]]\n",
    "\n",
    "s = Solution()\n",
    "sol = s.canVisitAllRooms(rooms)\n",
    "print(sol)"
   ]
  },
  {
   "cell_type": "code",
   "execution_count": 25,
   "id": "38fdc8d1",
   "metadata": {},
   "outputs": [],
   "source": [
    "codde = f'''\n",
    "{Solution.__name__} class\n",
    "{Solution.canVisitAllRooms.__name__} method\n",
    "### Problem:\n",
    "You have n rooms labeled from 0 to n - 1 and all the rooms are locked except for room 0.\n",
    "You need to visit all the rooms. Your goal is to traverse all the rooms and open them by following these rules:\n",
    "1. You start in the locked room 0.\n",
    "2. Each room may contain a key to another room.\n",
    "3. You can only open a room if you have its key.\n",
    "4. You can only enter a room if you have its key.\n",
    "5. You can only leave a room if you have its key.\n",
    "### Example:\n",
    "Input: rooms = [[1],[2],[3],[]]\n",
    "Output: True\n",
    "Input: rooms = [[1,3],[3,0,1],[2],[0]]\n",
    "Output: False\n",
    "### Constraints:\n",
    "- n == rooms.length\n",
    "- 2 <= n <= 1000\n",
    "- 0 <= rooms[i].length <= n\n",
    "- rooms[i] is a list of keys\n",
    "- Each key rooms[i][j] is unique.\n",
    "### Explanation:\n",
    "- You start in the locked room 0.\n",
    "- You can only enter a room if you have its key.\n",
    "- You can only leave a room if you have its key.\n",
    "### Solution:\n",
    "- Use DFS to traverse the rooms.\n",
    "- Use a set to keep track of visited rooms.\n",
    "- Check if all rooms are visited.\n",
    "### Time Complexity:\n",
    "- O(n) where n is the number of rooms.\n",
    "### Space Complexity:\n",
    "- O(n) where n is the number of rooms.\n",
    "### Note:\n",
    "- The solution uses DFS to traverse the rooms.\n",
    "- The solution uses a set to keep track of visited rooms.\n",
    "- The solution checks if all rooms are visited.\n",
    "### The solution is correct.\n",
    "### The solution is efficient.\n",
    "### The solution is optimal.\n",
    "### The solution is clean.\n",
    "### The solution is easy to understand.\n",
    "### The solution is well documented.\n",
    "### The solution is well tested.\n",
    "### The solution is well structured.\n",
    "### The solution is well written.\n",
    "### The solution is well formatted.\n",
    "### The solution is well organized.\n",
    "### The solution is well designed.\n",
    "### The solution is well implemented.\n",
    "### The solution is well maintained.\n",
    "### The solution is well supported.\n",
    "'''"
   ]
  },
  {
   "cell_type": "code",
   "execution_count": 26,
   "id": "0513153a",
   "metadata": {},
   "outputs": [
    {
     "data": {
      "text/markdown": [
       "Here's a Python class implementing the Solution for the given problem. I've written detailed comments to explain each part of the code.\n",
       "\n",
       "```python\n",
       "class Solution:\n",
       "    def canVisitAllRooms(self, rooms: list[list[int]]) -> bool:\n",
       "        \"\"\"\n",
       "        This method determines if we can visit all rooms.\n",
       "        \n",
       "        Args:\n",
       "            rooms (list[list[int]]): A 2D list representing the rooms where each room i is represented as a list of its keys (i.e., indices in the rooms list).\n",
       "\n",
       "        Returns:\n",
       "            bool: True if we can visit all rooms, False otherwise.\n",
       "        \"\"\"\n",
       "        \n",
       "        # Initialize an empty set to keep track of visited rooms\n",
       "        visited = set()\n",
       "        \n",
       "        # Define a helper function for DFS traversal\n",
       "        def dfs(room_index):\n",
       "            # Add the current room index to the visited set\n",
       "            visited.add(room_index)\n",
       "            \n",
       "            # Iterate over each key in the current room's keys list\n",
       "            for key in rooms[room_index]:\n",
       "                # If the key is not the current room and it has not been visited yet, perform DFS on that room\n",
       "                if key != room_index and key not in visited:\n",
       "                    dfs(key)\n",
       "        \n",
       "        # Perform DFS traversal starting from room 0 (the locked room)\n",
       "        dfs(0)\n",
       "        \n",
       "        # Check if all rooms have been visited\n",
       "        return len(visited) == len(rooms)\n",
       "\n",
       "# Example usage:\n",
       "solution = Solution()\n",
       "print(solution.canVisitAllRooms([[1],[2],[3],[]]))  # Output: True\n",
       "print(solution.canVisitAllRooms([[1,3],[3,0,1],[2],[0]]))  # Output: False\n",
       "```\n",
       "\n",
       "**Explanation of the code step by step:**\n",
       "\n",
       "1. **Initialization:** The `visited` set is initialized to keep track of visited rooms.\n",
       "\n",
       "2. **DFS Helper Function:** A helper function named `dfs` is defined for Depth-First Search (DFS) traversal. This function takes a room index as an argument and performs DFS on that room's keys by recursively calling itself on each unvisited key.\n",
       "\n",
       "3. **Main DFS Traversal:** In the main `canVisitAllRooms` method, the helper function `dfs` is called with the initial room index 0 (the locked room) to start the traversal.\n",
       "\n",
       "4. **Room Visit Tracking:** During the traversal, each visited room's index is added to the `visited` set.\n",
       "\n",
       "5. **All Rooms Visitation Check:** After the DFS traversal, it checks if all rooms have been visited by comparing the length of the `visited` set with the total number of rooms. If they are equal, then all rooms can be visited.\n",
       "\n",
       "6. **Return Statement:** Finally, the method returns a boolean indicating whether we can visit all rooms.\n",
       "\n",
       "**Time and Space Complexity:**\n",
       "\n",
       "*   Time complexity: O(n) where n is the number of rooms because each room's keys list is traversed once.\n",
       "*   Space complexity: O(n) due to the visited set which stores the indices of all visited rooms."
      ],
      "text/plain": [
       "<IPython.core.display.Markdown object>"
      ]
     },
     "metadata": {},
     "output_type": "display_data"
    }
   ],
   "source": [
    "prompt = f''' codde:{codde} \\n'''\n",
    "prompt += ''' Explain the code step by step.'''\n",
    "display(Markdown(query_ollama(prompt)))"
   ]
  },
  {
   "cell_type": "code",
   "execution_count": null,
   "id": "91b039f0",
   "metadata": {},
   "outputs": [],
   "source": []
  }
 ],
 "metadata": {
  "kernelspec": {
   "display_name": "base",
   "language": "python",
   "name": "python3"
  },
  "language_info": {
   "codemirror_mode": {
    "name": "ipython",
    "version": 3
   },
   "file_extension": ".py",
   "mimetype": "text/x-python",
   "name": "python",
   "nbconvert_exporter": "python",
   "pygments_lexer": "ipython3",
   "version": "3.12.7"
  }
 },
 "nbformat": 4,
 "nbformat_minor": 5
}
