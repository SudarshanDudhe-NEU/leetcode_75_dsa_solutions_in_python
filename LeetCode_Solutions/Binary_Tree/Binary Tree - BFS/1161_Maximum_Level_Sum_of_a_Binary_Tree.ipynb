{
 "cells": [
  {
   "cell_type": "markdown",
   "id": "7b4644ad",
   "metadata": {
    "vscode": {
     "languageId": "markdown"
    }
   },
   "source": [
    "# Maximum_Level_Sum_of_a_Binary_Tree\n",
    "\n",
    "## Medium\n",
    "### Topics\n",
    "- Binary Tree\n",
    "\n",
    "### Companies\n",
    "- (Insert relevant companies here if needed)\n",
    "\n",
    "### Problem\n",
    "\n",
    "Given the root of a binary tree, the level of its root is 1, the level of its children is 2, and so on.\n",
    "\n",
    "Return the smallest level x such that the sum of all the values of nodes at level x is maximal.\n",
    "\n",
    "### Example 1:\n",
    "\n",
    "**Input:**\n",
    "\n",
    "```python\n",
    "root = [1, 7, 0, 7, -8, None, None]"
   ]
  },
  {
   "cell_type": "markdown",
   "id": "75d87b18",
   "metadata": {},
   "source": [
    "\n",
    "\n",
    "**Output:**\n",
    "\n"
   ]
  },
  {
   "cell_type": "code",
   "execution_count": 15,
   "id": "683b2297",
   "metadata": {},
   "outputs": [
    {
     "data": {
      "text/plain": [
       "2"
      ]
     },
     "execution_count": 15,
     "metadata": {},
     "output_type": "execute_result"
    }
   ],
   "source": [
    "2"
   ]
  },
  {
   "cell_type": "markdown",
   "id": "3be068ea",
   "metadata": {},
   "source": [
    "\n",
    "\n",
    "**Explanation:**\n",
    "- Level 1 sum = 1.\n",
    "- Level 2 sum = 7 + 0 = 7.\n",
    "- Level 3 sum = 7 + -8 = -1.\n",
    "- So we return the level with the maximum sum which is level 2.\n",
    "\n",
    "### Example 2:\n",
    "\n",
    "**Input:**\n",
    "\n"
   ]
  },
  {
   "cell_type": "code",
   "execution_count": 16,
   "id": "465594a9",
   "metadata": {},
   "outputs": [],
   "source": [
    "root = [989, None, 10250, 98693, -89388, None, None, None, -32127]"
   ]
  },
  {
   "cell_type": "markdown",
   "id": "6da0901c",
   "metadata": {},
   "source": [
    "\n",
    "\n",
    "**Output:**\n",
    "\n"
   ]
  },
  {
   "cell_type": "code",
   "execution_count": 17,
   "id": "62fa4a34",
   "metadata": {},
   "outputs": [
    {
     "data": {
      "text/plain": [
       "2"
      ]
     },
     "execution_count": 17,
     "metadata": {},
     "output_type": "execute_result"
    }
   ],
   "source": [
    "2"
   ]
  },
  {
   "cell_type": "code",
   "execution_count": 18,
   "id": "40d385b6",
   "metadata": {},
   "outputs": [],
   "source": [
    "\n",
    "#This format follows the specified pattern for the problem \"Maximum_Level_Sum_of_a_Binary_Tree\".This format follows the specified pattern for the problem \"Maximum_Level_Sum_of_a_Binary_Tree\"."
   ]
  },
  {
   "cell_type": "code",
   "execution_count": 20,
   "id": "f99032d1-1d21-44ca-83b1-d967bf3e49d5",
   "metadata": {},
   "outputs": [
    {
     "name": "stdout",
     "output_type": "stream",
     "text": [
      "Level-order representations:\n",
      "Tree 1: [1, 7, 0, 7, -8]\n",
      "Tree 2: [989, None, 10250, 98693, -89388, None, None, None, -32127]\n",
      "Tree 3: [1]\n",
      "Tree 4: Empty tree\n",
      "\n",
      "Inorder traversals:\n",
      "Tree 1: 7 7 -8 1 0\n",
      "Tree 2: 989 98693 10250 -89388 -32127\n",
      "Tree 3: 1\n",
      "Tree 4: \n"
     ]
    }
   ],
   "source": [
    "from typing import Optional, List\n",
    "from collections import deque\n",
    "\n",
    "# Definition for a binary tree node.\n",
    "\n",
    "\n",
    "class TreeNode:\n",
    "    def __init__(self, val=0, left=None, right=None):\n",
    "        self.val = val\n",
    "        self.left = left\n",
    "        self.right = right\n",
    "\n",
    "\n",
    "def create_tree_from_level_order(data: List[Optional[int]]) -> Optional[TreeNode]:\n",
    "    \"\"\"\n",
    "    Create a binary tree from level-order array representation.\n",
    "    None values in the array represent empty nodes.\n",
    "    \n",
    "    Args:\n",
    "        data: List of integers or None values in level-order sequence\n",
    "        \n",
    "    Returns:\n",
    "        Root node of the created tree, or None if input is empty\n",
    "    \"\"\"\n",
    "    if not data or data[0] is None:\n",
    "        return None\n",
    "\n",
    "    root = TreeNode(data[0])  # Root node\n",
    "    queue = deque([root])     # Queue for level-order insertion\n",
    "    index = 1                 # Index in the data list\n",
    "\n",
    "    while queue and index < len(data):\n",
    "        node = queue.popleft()  # Get the current node\n",
    "\n",
    "        # Assign the left child if available\n",
    "        if index < len(data):\n",
    "            if data[index] is not None:\n",
    "                node.left = TreeNode(data[index])\n",
    "                queue.append(node.left)\n",
    "            index += 1\n",
    "\n",
    "        # Assign the right child if available\n",
    "        if index < len(data):\n",
    "            if data[index] is not None:\n",
    "                node.right = TreeNode(data[index])\n",
    "                queue.append(node.right)\n",
    "            index += 1\n",
    "\n",
    "    return root\n",
    "\n",
    "\n",
    "def print_tree_level_order(root: Optional[TreeNode]) -> None:\n",
    "    \"\"\"\n",
    "    Print the level-order representation of a tree (breadth-first).\n",
    "    \n",
    "    Args:\n",
    "        root: Root node of the binary tree\n",
    "    \"\"\"\n",
    "    if not root:\n",
    "        print(\"Empty tree\")\n",
    "        return\n",
    "\n",
    "    queue = deque([root])\n",
    "    result = []\n",
    "\n",
    "    while queue:\n",
    "        node = queue.popleft()\n",
    "        if node:\n",
    "            result.append(str(node.val))\n",
    "            queue.append(node.left)\n",
    "            queue.append(node.right)\n",
    "        else:\n",
    "            result.append(\"None\")\n",
    "\n",
    "    # Remove trailing None values\n",
    "    while result and result[-1] == \"None\":\n",
    "        result.pop()\n",
    "\n",
    "    print(\"[\" + \", \".join(result) + \"]\")\n",
    "\n",
    "\n",
    "def inorder_traversal(root: Optional[TreeNode]) -> List[int]:\n",
    "    \"\"\"\n",
    "    Perform an inorder traversal of the binary tree.\n",
    "    \n",
    "    Args:\n",
    "        root: Root node of the binary tree\n",
    "        \n",
    "    Returns:\n",
    "        List of values in inorder sequence\n",
    "    \"\"\"\n",
    "    result = []\n",
    "\n",
    "    def traverse(node):\n",
    "        if node:\n",
    "            traverse(node.left)\n",
    "            result.append(node.val)\n",
    "            traverse(node.right)\n",
    "\n",
    "    traverse(root)\n",
    "    return result\n",
    "\n",
    "\n",
    "def print_inorder_traversal(root: Optional[TreeNode]) -> None:\n",
    "    \"\"\"\n",
    "    Print an inorder traversal of the binary tree.\n",
    "    \n",
    "    Args:\n",
    "        root: Root node of the binary tree\n",
    "    \"\"\"\n",
    "    values = inorder_traversal(root)\n",
    "    print(\" \".join(map(str, values)))\n",
    "\n",
    "\n",
    "# Example usage\n",
    "if __name__ == \"__main__\":\n",
    "    # Level-order representations from the markdown examples\n",
    "    data1 = [1, 7, 0, 7, -8, None, None]\n",
    "    data2 = [989, None, 10250, 98693, -89388, None, None, None, -32127]\n",
    "    data3 = [1]\n",
    "    data4 = []\n",
    "    \n",
    "\n",
    "    # Create the trees\n",
    "    tree1 = create_tree_from_level_order(data1)\n",
    "    tree2 = create_tree_from_level_order(data2)\n",
    "    tree3 = create_tree_from_level_order(data3)\n",
    "    tree4 = create_tree_from_level_order(data4)\n",
    "\n",
    "    # Print level-order representation\n",
    "    print(\"Level-order representations:\")\n",
    "    print(\"Tree 1:\", end=\" \")\n",
    "    print_tree_level_order(tree1)\n",
    "    print(\"Tree 2:\", end=\" \")\n",
    "    print_tree_level_order(tree2)\n",
    "    print(\"Tree 3:\", end=\" \")\n",
    "    print_tree_level_order(tree3)\n",
    "    print(\"Tree 4:\", end=\" \")\n",
    "    print_tree_level_order(tree4)\n",
    "\n",
    "    # Print inorder traversals\n",
    "    print(\"\\nInorder traversals:\")\n",
    "    print(\"Tree 1:\", end=\" \")\n",
    "    print_inorder_traversal(tree1)\n",
    "    print(\"Tree 2:\", end=\" \")\n",
    "    print_inorder_traversal(tree2)\n",
    "    print(\"Tree 3:\", end=\" \")\n",
    "    print_inorder_traversal(tree3)\n",
    "    print(\"Tree 4:\", end=\" \")\n",
    "    print_inorder_traversal(tree4)"
   ]
  },
  {
   "cell_type": "markdown",
   "id": "719ff64a-3821-4522-a195-abb1598f1445",
   "metadata": {},
   "source": [
    "## Solution"
   ]
  },
  {
   "cell_type": "markdown",
   "id": "480386fd",
   "metadata": {},
   "source": [
    "### Approach Explanation\n",
    "\n",
    "1. **Initialization**:\n",
    "   - We'll use a queue to implement level-order traversal (BFS)\n",
    "   - Initialize variables to track maximum sum found so far and its corresponding level\n",
    "   - Start with the root at level 1 (as specified in the problem)\n",
    "\n",
    "2. **BFS Traversal**:\n",
    "   - Process the tree level by level using a queue\n",
    "   - For each level, calculate the sum of all node values at that level\n",
    "   - When processing each level, add all of its children to the queue for the next level\n",
    "   - Compare each level's sum with the maximum sum found so far\n",
    "   - If the current level's sum is greater than the maximum sum, update the maximum sum and its level\n",
    "\n",
    "3. **Result**:\n",
    "   - Return the level with the maximum sum\n",
    "   - If multiple levels have the same maximum sum, return the smallest level (as required by the problem)\n",
    "    \n",
    "This approach ensures that we find the level with the maximum sum efficiently using BFS traversal while maintaining a time complexity of O(n) where n is the number of nodes in the tree."
   ]
  },
  {
   "cell_type": "code",
   "execution_count": null,
   "id": "e0a538ea",
   "metadata": {},
   "outputs": [],
   "source": [
    "from typing import Optional\n",
    "from collections import deque\n",
    "\n",
    "class Solution:\n",
    "    def maxLevelSum(self, root: Optional[TreeNode]) -> int:\n",
    "        if not root:\n",
    "            return 0\n",
    "            \n",
    "        queue = deque([root])\n",
    "        max_sum = float('-inf')\n",
    "        current_level = 0\n",
    "        max_level = 0\n",
    "        \n",
    "        while queue:\n",
    "            level_size = len(queue)\n",
    "            level_sum = 0  # Calculate sum directly without storing values\n",
    "            \n",
    "            current_level += 1  # Increment level at the beginning of each level\n",
    "            \n",
    "            for _ in range(level_size):\n",
    "                node = queue.popleft()\n",
    "                level_sum += node.val  # Add directly to sum\n",
    "                \n",
    "                # Add children to queue\n",
    "                if node.left:\n",
    "                    queue.append(node.left)\n",
    "                if node.right:\n",
    "                    queue.append(node.right)\n",
    "            \n",
    "            # Update max if needed\n",
    "            if level_sum > max_sum:\n",
    "                max_sum = level_sum\n",
    "                max_level = current_level\n",
    "                \n",
    "        return max_level"
   ]
  },
  {
   "cell_type": "code",
   "execution_count": 27,
   "id": "864d7310",
   "metadata": {},
   "outputs": [
    {
     "name": "stdout",
     "output_type": "stream",
     "text": [
      "2\n",
      "2\n",
      "1\n",
      "0\n"
     ]
    }
   ],
   "source": [
    "s = Solution()\n",
    "print(s.maxLevelSum(tree1))  # Expected: 2\n",
    "print(s.maxLevelSum(tree2))  # Expected: 2  \n",
    "print(s.maxLevelSum(tree3))  # Expected: 1\n",
    "print(s.maxLevelSum(tree4))  # Expected: 0"
   ]
  },
  {
   "cell_type": "markdown",
   "id": "49079e43",
   "metadata": {},
   "source": [
    "### BFS Traversal Results\n",
    "\n",
    "The BFS traversal of the trees generated from the given level-order representations are as follows:\n",
    "\n",
    "- **Tree 1**: [1, 2, 3, 5, 4]\n",
    "- **Tree 2**: [1, 2, 3, 4, 5]\n",
    "- **Tree 3**: [1, 3]\n",
    "- **Tree 4**: []\n",
    "\n",
    "These results show the order in which nodes are visited in a breadth-first search (BFS) traversal."
   ]
  },
  {
   "cell_type": "markdown",
   "id": "fbc814bc",
   "metadata": {},
   "source": []
  },
  {
   "cell_type": "code",
   "execution_count": 28,
   "id": "8b1cf409",
   "metadata": {},
   "outputs": [
    {
     "name": "stdout",
     "output_type": "stream",
     "text": [
      "BFS Traversal: [1, 7, 0, 7, -8]\n",
      "BFS Traversal: [989, 10250, 98693, -89388, -32127]\n",
      "BFS Traversal: [1]\n",
      "BFS Traversal: []\n"
     ]
    }
   ],
   "source": [
    "from collections import deque\n",
    "\n",
    "# TreeNode class definition (same as before)\n",
    "\n",
    "\n",
    "class TreeNode:\n",
    "    def __init__(self, val=0, left=None, right=None):\n",
    "        self.val = val\n",
    "        self.left = left\n",
    "        self.right = right\n",
    "\n",
    "\n",
    "def bfs(root):\n",
    "    if not root:\n",
    "        return []\n",
    "\n",
    "    queue = deque([root])  # Start with the root node in the queue\n",
    "    result = []  # To store the BFS traversal order\n",
    "\n",
    "    while queue:\n",
    "        node = queue.popleft()  # Dequeue the front node\n",
    "        # Visit the node (here we just store the value)\n",
    "        result.append(node.val)\n",
    "\n",
    "        # Enqueue the left and right children (if they exist)\n",
    "        if node.left:\n",
    "            queue.append(node.left)\n",
    "        if node.right:\n",
    "            queue.append(node.right)\n",
    "\n",
    "    return result\n",
    "\n",
    "\n",
    "# Perform BFS traversal\n",
    "bfs_result = bfs(tree1)\n",
    "print(\"BFS Traversal:\", bfs_result)\n",
    "\n",
    "bsf_result = bfs(tree2)\n",
    "print(\"BFS Traversal:\", bsf_result)\n",
    "\n",
    "bsf_result = bfs(tree3)\n",
    "print(\"BFS Traversal:\", bsf_result)\n",
    "\n",
    "bsf_result = bfs(tree4)\n",
    "print(\"BFS Traversal:\", bsf_result)"
   ]
  }
 ],
 "metadata": {
  "kernelspec": {
   "display_name": "Python 3 (ipykernel)",
   "language": "python",
   "name": "python3"
  },
  "language_info": {
   "codemirror_mode": {
    "name": "ipython",
    "version": 3
   },
   "file_extension": ".py",
   "mimetype": "text/x-python",
   "name": "python",
   "nbconvert_exporter": "python",
   "pygments_lexer": "ipython3",
   "version": "3.13.1"
  }
 },
 "nbformat": 4,
 "nbformat_minor": 5
}
