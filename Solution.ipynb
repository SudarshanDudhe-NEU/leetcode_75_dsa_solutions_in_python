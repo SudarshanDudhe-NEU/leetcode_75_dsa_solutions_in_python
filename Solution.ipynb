{
 "cells": [
  {
   "cell_type": "code",
   "execution_count": 27,
   "id": "f99032d1-1d21-44ca-83b1-d967bf3e49d5",
   "metadata": {},
   "outputs": [
    {
     "name": "stdout",
     "output_type": "stream",
     "text": [
      "Level-order representations:\n",
      "Tree 1: [3, 5, 1, 6, 2, 0, 8, None, None, 7, 4]\n",
      "Tree 2: [3, 5, 1, 6, 2, 0, 8, None, None, 7, 4]\n",
      "Tree 3: [1, 2]\n",
      "\n",
      "Inorder traversals:\n",
      "Tree 1: 6 5 7 2 4 3 0 1 8\n",
      "Tree 2: 6 5 7 2 4 3 0 1 8\n",
      "Tree 3: 2 1\n"
     ]
    }
   ],
   "source": [
    "from typing import Optional, List\n",
    "from collections import deque\n",
    "\n",
    "# Definition for a binary tree node.\n",
    "class TreeNode:\n",
    "    def __init__(self, val=0, left=None, right=None):\n",
    "        self.val = val\n",
    "        self.left = left\n",
    "        self.right = right\n",
    "\n",
    "def create_tree_from_level_order(data: List[Optional[int]]) -> Optional[TreeNode]:\n",
    "    \"\"\"\n",
    "    Create a binary tree from level-order array representation.\n",
    "    None values in the array represent empty nodes.\n",
    "    \n",
    "    Args:\n",
    "        data: List of integers or None values in level-order sequence\n",
    "        \n",
    "    Returns:\n",
    "        Root node of the created tree, or None if input is empty\n",
    "    \"\"\"\n",
    "    if not data or data[0] is None:\n",
    "        return None\n",
    "    \n",
    "    root = TreeNode(data[0])  # Root node\n",
    "    queue = deque([root])     # Queue for level-order insertion\n",
    "    index = 1                 # Index in the data list\n",
    "    \n",
    "    while queue and index < len(data):\n",
    "        node = queue.popleft()  # Get the current node\n",
    "        \n",
    "        # Assign the left child if available\n",
    "        if index < len(data):\n",
    "            if data[index] is not None:\n",
    "                node.left = TreeNode(data[index])\n",
    "                queue.append(node.left)\n",
    "            index += 1\n",
    "        \n",
    "        # Assign the right child if available\n",
    "        if index < len(data):\n",
    "            if data[index] is not None:\n",
    "                node.right = TreeNode(data[index])\n",
    "                queue.append(node.right)\n",
    "            index += 1\n",
    "    \n",
    "    return root\n",
    "\n",
    "def print_tree_level_order(root: Optional[TreeNode]) -> None:\n",
    "    \"\"\"\n",
    "    Print the level-order representation of a tree (breadth-first).\n",
    "    \n",
    "    Args:\n",
    "        root: Root node of the binary tree\n",
    "    \"\"\"\n",
    "    if not root:\n",
    "        print(\"Empty tree\")\n",
    "        return\n",
    "    \n",
    "    queue = deque([root])\n",
    "    result = []\n",
    "    \n",
    "    while queue:\n",
    "        node = queue.popleft()\n",
    "        if node:\n",
    "            result.append(str(node.val))\n",
    "            queue.append(node.left)\n",
    "            queue.append(node.right)\n",
    "        else:\n",
    "            result.append(\"None\")\n",
    "    \n",
    "    # Remove trailing None values\n",
    "    while result and result[-1] == \"None\":\n",
    "        result.pop()\n",
    "    \n",
    "    print(\"[\" + \", \".join(result) + \"]\")\n",
    "\n",
    "def inorder_traversal(root: Optional[TreeNode]) -> List[int]:\n",
    "    \"\"\"\n",
    "    Perform an inorder traversal of the binary tree.\n",
    "    \n",
    "    Args:\n",
    "        root: Root node of the binary tree\n",
    "        \n",
    "    Returns:\n",
    "        List of values in inorder sequence\n",
    "    \"\"\"\n",
    "    result = []\n",
    "    \n",
    "    def traverse(node):\n",
    "        if node:\n",
    "            traverse(node.left)\n",
    "            result.append(node.val)\n",
    "            traverse(node.right)\n",
    "    \n",
    "    traverse(root)\n",
    "    return result\n",
    "\n",
    "def print_inorder_traversal(root: Optional[TreeNode]) -> None:\n",
    "    \"\"\"\n",
    "    Print an inorder traversal of the binary tree.\n",
    "    \n",
    "    Args:\n",
    "        root: Root node of the binary tree\n",
    "    \"\"\"\n",
    "    values = inorder_traversal(root)\n",
    "    print(\" \".join(map(str, values)))\n",
    "\n",
    "# Example usage\n",
    "if __name__ == \"__main__\":\n",
    "    # Level-order representations\n",
    "    data1 = [3, 5, 1, 6, 2, 0, 8, None, None, 7, 4]\n",
    "    data2 = [3, 5, 1, 6, 2, 0, 8, None, None, 7, 4]\n",
    "    data3 = [1, 2]\n",
    "    \n",
    "    # Create the trees\n",
    "    tree1 = create_tree_from_level_order(data1)\n",
    "    tree2 = create_tree_from_level_order(data2)\n",
    "    tree3 = create_tree_from_level_order(data3)\n",
    "    \n",
    "    # Print level-order representation\n",
    "    print(\"Level-order representations:\")\n",
    "    print(\"Tree 1:\", end=\" \")\n",
    "    print_tree_level_order(tree1)\n",
    "    print(\"Tree 2:\", end=\" \")\n",
    "    print_tree_level_order(tree2)\n",
    "    print(\"Tree 3:\", end=\" \")\n",
    "    print_tree_level_order(tree3)\n",
    "    \n",
    "    # Print inorder traversals\n",
    "    print(\"\\nInorder traversals:\")\n",
    "    print(\"Tree 1:\", end=\" \")\n",
    "    print_inorder_traversal(tree1)\n",
    "    print(\"Tree 2:\", end=\" \")\n",
    "    print_inorder_traversal(tree2)\n",
    "    print(\"Tree 3:\", end=\" \")\n",
    "    print_inorder_traversal(tree3)\n",
    "    "
   ]
  },
  {
   "cell_type": "markdown",
   "id": "719ff64a-3821-4522-a195-abb1598f1445",
   "metadata": {},
   "source": [
    "## Solution"
   ]
  },
  {
   "cell_type": "code",
   "execution_count": 31,
   "id": "8afb3435-2256-4dc5-936d-eb79a0f1a582",
   "metadata": {},
   "outputs": [],
   "source": [
    "from typing import Optional\n",
    "\n",
    "class Solution:\n",
    "    def lowestCommonAncestor(self, root: Optional[TreeNode], p: TreeNode, q: TreeNode) -> Optional[TreeNode]:\n",
    "        \"\"\"\n",
    "        :type root: TreeNode\n",
    "        :type p: TreeNode\n",
    "        :type q: TreeNode\n",
    "        :rtype: TreeNode\n",
    "        \"\"\"\n",
    "        def dfs(node: Optional[TreeNode]) -> Optional[TreeNode]:\n",
    "            if not node:\n",
    "                return None\n",
    "            \n",
    "            if node.val == p.val or node.val == q.val:\n",
    "                return node\n",
    "            \n",
    "            left = dfs(node.left)\n",
    "            right = dfs(node.right)\n",
    "            \n",
    "            if left and right:\n",
    "                return node\n",
    "            \n",
    "            return left or right\n",
    "        return dfs(root)"
   ]
  },
  {
   "cell_type": "code",
   "execution_count": 35,
   "id": "be42d66c-0fef-4a6a-b202-2f11aaab7e10",
   "metadata": {},
   "outputs": [
    {
     "name": "stdout",
     "output_type": "stream",
     "text": [
      "3\n"
     ]
    }
   ],
   "source": [
    "p, q = 5, 1\n",
    "p_node = TreeNode(p)\n",
    "q_node = TreeNode(q)\n",
    "sol = Solution()\n",
    "res = sol.lowestCommonAncestor(tree1, p_node, q_node)\n",
    "print(res.val)"
   ]
  },
  {
   "cell_type": "code",
   "execution_count": 36,
   "id": "75749325-fc45-4493-9c7b-bb6aa4fefe4b",
   "metadata": {},
   "outputs": [
    {
     "name": "stdout",
     "output_type": "stream",
     "text": [
      "5\n"
     ]
    }
   ],
   "source": [
    "sol = Solution()\n",
    "p, q = 5, 4\n",
    "p_node = TreeNode(p)\n",
    "q_node = TreeNode(q)\n",
    "\n",
    "res = sol.lowestCommonAncestor(tree2, p_node, q_node)\n",
    "print(res.val)"
   ]
  },
  {
   "cell_type": "code",
   "execution_count": 37,
   "id": "7aa98011-4fe1-49ce-992c-0fcdae6875ab",
   "metadata": {},
   "outputs": [
    {
     "name": "stdout",
     "output_type": "stream",
     "text": [
      "1\n"
     ]
    }
   ],
   "source": [
    "\n",
    "sol = Solution()\n",
    "p, q = 1, 2\n",
    "p_node = TreeNode(p)\n",
    "q_node = TreeNode(q)\n",
    "\n",
    "res = sol.lowestCommonAncestor(tree3, p_node, q_node)\n",
    "print(res.val)"
   ]
  },
  {
   "cell_type": "code",
   "execution_count": 26,
   "id": "1cd2faf0",
   "metadata": {},
   "outputs": [
    {
     "name": "stdout",
     "output_type": "stream",
     "text": [
      "Lowest Common Ancestor of 5 and 1 in tree1: 3\n",
      "Lowest Common Ancestor of 5 and 4 in tree2: 5\n",
      "Lowest Common Ancestor of 1 and 2 in tree3: 1\n"
     ]
    }
   ],
   "source": [
    "def lowestCommonAncestor(root: Optional[TreeNode], p: int, q: int) -> Optional[TreeNode]:\n",
    "    def dfs(node):\n",
    "        if node is None:\n",
    "            return None\n",
    "        if node.val == p or node.val == q:\n",
    "            return node\n",
    "        left = dfs(node.left)\n",
    "        right = dfs(node.right)\n",
    "        if left and right:\n",
    "            return node\n",
    "        return left or right\n",
    "    \n",
    "    return dfs(root)\n",
    "\n",
    "# Find the lowest common ancestor for tree1\n",
    "p, q = 5, 1\n",
    "res = lowestCommonAncestor(tree1, p, q)\n",
    "print(f\"Lowest Common Ancestor of {p} and {q} in tree1: {res.val if res else 'None'}\")\n",
    "\n",
    "# Find the lowest common ancestor for tree2\n",
    "p, q = 5, 4\n",
    "res = lowestCommonAncestor(tree2, p, q)\n",
    "print(f\"Lowest Common Ancestor of {p} and {q} in tree2: {res.val if res else 'None'}\")\n",
    "\n",
    "# Find the lowest common ancestor for tree3\n",
    "p, q = 1, 2\n",
    "res = lowestCommonAncestor(tree3, p, q)\n",
    "print(f\"Lowest Common Ancestor of {p} and {q} in tree3: {res.val if res else 'None'}\")\n"
   ]
  },
  {
   "cell_type": "code",
   "execution_count": null,
   "id": "e0a538ea",
   "metadata": {},
   "outputs": [],
   "source": []
  }
 ],
 "metadata": {
  "kernelspec": {
   "display_name": "Python 3 (ipykernel)",
   "language": "python",
   "name": "python3"
  },
  "language_info": {
   "codemirror_mode": {
    "name": "ipython",
    "version": 3
   },
   "file_extension": ".py",
   "mimetype": "text/x-python",
   "name": "python",
   "nbconvert_exporter": "python",
   "pygments_lexer": "ipython3",
   "version": "3.13.1"
  }
 },
 "nbformat": 4,
 "nbformat_minor": 5
}
