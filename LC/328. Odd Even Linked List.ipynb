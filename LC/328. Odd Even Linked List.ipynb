{
 "cells": [
  {
   "cell_type": "markdown",
   "id": "f6b655d0-711c-4f41-b115-5e623426c65c",
   "metadata": {},
   "source": [
    "328. Odd Even Linked List\n",
    "Medium\n",
    "Topics\n",
    "Companies\n",
    "Given the head of a singly linked list, group all the nodes with odd indices together followed by the nodes with even indices, and return the reordered list.\n",
    "\n",
    "The first node is considered odd, and the second node is even, and so on.\n",
    "\n",
    "Note that the relative order inside both the even and odd groups should remain as it was in the input.\n",
    "\n",
    "You must solve the problem in O(1) extra space complexity and O(n) time complexity.\n",
    "\n",
    "Example 1:\n",
    "\n",
    "\n",
    "Input: head = [1,2,3,4,5]\n",
    "Output: [1,3,5,2,4]\n",
    "Example 2:\n",
    "\n",
    "\n",
    "Input: head = [2,1,3,5,6,4,7]\n",
    "Output: [2,3,6,7,1,5,4]\n"
   ]
  },
  {
   "cell_type": "code",
   "execution_count": 1,
   "id": "720769c6-a819-4a93-945d-3709c75350a1",
   "metadata": {},
   "outputs": [
    {
     "name": "stdout",
     "output_type": "stream",
     "text": [
      "1 -> 2 -> 3 -> 4 -> 5 -> None\n"
     ]
    }
   ],
   "source": [
    "# Define a Node class\n",
    "class Node:\n",
    "    def __init__(self, value):\n",
    "        self.value = value\n",
    "        self.next = None\n",
    "\n",
    "# Function to create a linked list from a list\n",
    "def create_linked_list(values):\n",
    "    if not values:\n",
    "        return None  # If the input list is empty, return None\n",
    "    head = Node(values[0])  # Create the head node\n",
    "    current = head  # Start with the head node\n",
    "    for value in values[1:]:\n",
    "        current.next = Node(value)  # Create and link the next node\n",
    "        current = current.next  # Move to the next node\n",
    "    return head\n",
    "\n",
    "# Function to print the linked list\n",
    "def print_linked_list(head):\n",
    "    current = head\n",
    "    while current:\n",
    "        print(current.value, end=\" -> \")\n",
    "        current = current.next\n",
    "    print(\"None\")\n",
    "\n",
    "# Input list\n",
    "head_values = [1,2,3,4,5]\n",
    "\n",
    "# Create the linked list\n",
    "linked_list_head = create_linked_list(head_values)\n",
    "\n",
    "# Print the linked list\n",
    "print_linked_list(linked_list_head)"
   ]
  },
  {
   "cell_type": "code",
   "execution_count": 68,
   "id": "7b97ed69-2b11-491f-ac1e-4f35526f2392",
   "metadata": {},
   "outputs": [],
   "source": [
    "from typing import Optional\n",
    "\n",
    "# Definition for singly-linked list.\n",
    "class ListNode:\n",
    "    def __init__(self, val=0, next=None):\n",
    "        self.val = val\n",
    "        self.next = next\n",
    "\n",
    "class Solution:\n",
    "    def oddEvenList(self, head: Optional[ListNode]) -> Optional[ListNode]:\n",
    "        if not head or not head.next:\n",
    "            return head\n",
    "        odd_current = head\n",
    "        even_current = even_head = head.next\n",
    "        while odd_current and odd_current.next and even_current.next:\n",
    "            odd_current.next = even_current.next\n",
    "            odd_current = odd_current.next\n",
    "            even_current.next = odd_current.next\n",
    "            even_current = even_current.next\n",
    "        odd_current.next = even_head\n",
    "        return head"
   ]
  },
  {
   "cell_type": "code",
   "execution_count": 69,
   "id": "aa9db3b2-5c2e-4e89-aa40-0b2be003dd02",
   "metadata": {},
   "outputs": [
    {
     "name": "stdout",
     "output_type": "stream",
     "text": [
      "1 -> 2 -> 3 -> 4 -> 5 -> 6 -> 7 -> 8 -> None\n"
     ]
    }
   ],
   "source": [
    "# Input list\n",
    "# head_values = [1, 3, 4, 7, 1, 2, 6]\n",
    "# head_values = [1,2,3,4]\n",
    "# head_values = [1,2,3,4,5]\n",
    "head_values = [1,2,3,4,5,6,7,8]\n",
    "\n",
    "# Create the linked list\n",
    "linked_list_head = create_linked_list(head_values)\n",
    "print_linked_list(linked_list_head)"
   ]
  },
  {
   "cell_type": "code",
   "execution_count": 70,
   "id": "8b37bda5-8b6f-4347-a84c-a2476b34e353",
   "metadata": {},
   "outputs": [
    {
     "name": "stdout",
     "output_type": "stream",
     "text": [
      "1 2\n",
      "3 4\n",
      "5 6\n",
      "<__main__.Node object at 0x11ba3e990>\n",
      "1 -> 3 -> 5 -> 7 -> 2 -> 4 -> 6 -> 8 -> None\n"
     ]
    }
   ],
   "source": [
    "sol = Solution()\n",
    "head_sol = sol.oddEvenList(linked_list_head)\n",
    "print(head_sol)\n",
    "print_linked_list(head_sol)"
   ]
  },
  {
   "cell_type": "code",
   "execution_count": null,
   "id": "53f6cb6a-f118-4191-a632-8e4cd4daf6fc",
   "metadata": {},
   "outputs": [],
   "source": []
  },
  {
   "cell_type": "code",
   "execution_count": null,
   "id": "7909d41a-319b-4875-a402-ed5179faa947",
   "metadata": {},
   "outputs": [],
   "source": []
  }
 ],
 "metadata": {
  "kernelspec": {
   "display_name": "Python 3 (ipykernel)",
   "language": "python",
   "name": "python3"
  },
  "language_info": {
   "codemirror_mode": {
    "name": "ipython",
    "version": 3
   },
   "file_extension": ".py",
   "mimetype": "text/x-python",
   "name": "python",
   "nbconvert_exporter": "python",
   "pygments_lexer": "ipython3",
   "version": "3.13.0"
  }
 },
 "nbformat": 4,
 "nbformat_minor": 5
}
