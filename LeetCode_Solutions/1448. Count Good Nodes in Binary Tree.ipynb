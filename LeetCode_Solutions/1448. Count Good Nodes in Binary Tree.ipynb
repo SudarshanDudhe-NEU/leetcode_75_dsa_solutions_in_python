{
 "cells": [
  {
   "cell_type": "markdown",
   "id": "a507002b-f61a-4766-bf6c-cd4ba60787b5",
   "metadata": {},
   "source": [
    "1448. Count Good Nodes in Binary Tree\n",
    "Medium\n",
    "Topics\n",
    "Companies\n",
    "Hint\n",
    "Given a binary tree root, a node X in the tree is named good if in the path from root to X there are no nodes with a value greater than X.\n",
    "\n",
    "Return the number of good nodes in the binary tree.\n",
    "\n",
    " \n",
    "\n",
    "Example 1:\n",
    "\n",
    "\n",
    "\n",
    "Input: root = [3,1,4,3,null,1,5]\n",
    "Output: 4\n",
    "Explanation: Nodes in blue are good.\n",
    "Root Node (3) is always a good node.\n",
    "Node 4 -> (3,4) is the maximum value in the path starting from the root.\n",
    "Node 5 -> (3,4,5) is the maximum value in the path\n",
    "Node 3 -> (3,1,3) is the maximum value in the path.\n",
    "Example 2:\n",
    "\n",
    "\n",
    "\n",
    "Input: root = [3,3,null,4,2]\n",
    "Output: 3\n",
    "Explanation: Node 2 -> (3, 3, 2) is not good, because \"3\" is higher than it.\n",
    "Example 3:\n",
    "\n",
    "Input: root = [1]\n",
    "Output: 1\n",
    "Explanation: Root is considered as good."
   ]
  },
  {
   "cell_type": "code",
   "execution_count": 2,
   "id": "788e9df5-a88c-4012-bf3d-00e997eeee35",
   "metadata": {},
   "outputs": [],
   "source": [
    "from typing import Optional, List\n",
    "from collections import deque\n",
    "\n",
    "# Definition for a binary tree node.\n",
    "class TreeNode:\n",
    "    def __init__(self, val=0, left=None, right=None):\n",
    "        self.val = val\n",
    "        self.left = left\n",
    "        self.right = right\n",
    "\n",
    "def create_tree_from_level_order(data: List[Optional[int]]) -> Optional[TreeNode]:\n",
    "    if not data or data[0] is None:\n",
    "        return None\n",
    "    \n",
    "    root = TreeNode(data[0])  # Root node\n",
    "    queue = deque([root])     # Queue for level-order insertion\n",
    "    index = 1                 # Index in the data list\n",
    "    \n",
    "    while queue and index < len(data):\n",
    "        node = queue.popleft()  # Get the current node\n",
    "        \n",
    "        # Assign the left child if available\n",
    "        if index < len(data) and data[index] is not None:\n",
    "            node.left = TreeNode(data[index])\n",
    "            queue.append(node.left)\n",
    "        index += 1\n",
    "        \n",
    "        # Assign the right child if available\n",
    "        if index < len(data) and data[index] is not None:\n",
    "            node.right = TreeNode(data[index])\n",
    "            queue.append(node.right)\n",
    "        index += 1\n",
    "    \n",
    "    return root"
   ]
  },
  {
   "cell_type": "code",
   "execution_count": 3,
   "id": "b36c7436-4169-4cf1-81b3-902a885fe692",
   "metadata": {},
   "outputs": [
    {
     "name": "stdout",
     "output_type": "stream",
     "text": [
      "Tree 1 (Inorder Traversal):\n",
      "6 5 7 2 4 3 9 1 8 \n",
      "Tree 2 (Inorder Traversal):\n",
      "6 5 7 3 4 1 9 2 8 "
     ]
    }
   ],
   "source": [
    "# Level-order representations\n",
    "data1 = [3, 5, 1, 6, 2, 9, 8, None, None, 7, 4]\n",
    "data2 = [3, 5, 1, 6, 7, 4, 2, None, None, None, None, None, None, 9, 8]\n",
    "\n",
    "# Create the trees\n",
    "tree1 = create_tree_from_level_order(data1)\n",
    "tree2 = create_tree_from_level_order(data2)\n",
    "\n",
    "# Function to print the tree (inorder traversal for visualization)\n",
    "def inorder_traversal(root: Optional[TreeNode]):\n",
    "    if root:\n",
    "        inorder_traversal(root.left)\n",
    "        print(root.val, end=\" \")\n",
    "        inorder_traversal(root.right)\n",
    "\n",
    "print(\"Tree 1 (Inorder Traversal):\")\n",
    "inorder_traversal(tree1)\n",
    "print(\"\\nTree 2 (Inorder Traversal):\")\n",
    "inorder_traversal(tree2)"
   ]
  },
  {
   "cell_type": "code",
   "execution_count": 4,
   "id": "02fe26ec-b220-4b9d-8f8a-007ff85b1ce7",
   "metadata": {},
   "outputs": [],
   "source": [
    "from typing import Optional\n",
    "# Definition for a binary tree node.\n",
    "class TreeNode:\n",
    "    def __init__(self, val=0, left=None, right=None):\n",
    "        self.val = val\n",
    "        self.left = left\n",
    "        self.right = right\n"
   ]
  },
  {
   "cell_type": "code",
   "execution_count": 27,
   "id": "7b4a6a5c-6c03-4640-9c10-ecbe04f28820",
   "metadata": {},
   "outputs": [],
   "source": [
    "class Solution:\n",
    "    def traverse(self, root: TreeNode, count) -> int:\n",
    "        if root:\n",
    "            if root.left:\n",
    "                if root.val <= root.left.val:\n",
    "                    count+=1\n",
    "                self.traverse(root.left, count)\n",
    "            if root.right:\n",
    "                if root.val <= root.right.val:\n",
    "                    count+=1\n",
    "                self.traverse(root.right, count)\n",
    "        return count\n",
    "    def goodNodes(self, root: TreeNode) -> int:\n",
    "        count = 0\n",
    "        if root: \n",
    "            count = self.traverse(root, count) +1\n",
    "        return count"
   ]
  },
  {
   "cell_type": "code",
   "execution_count": 28,
   "id": "9f83c840-524f-4eb5-aca5-a3cd183f16e8",
   "metadata": {},
   "outputs": [
    {
     "name": "stdout",
     "output_type": "stream",
     "text": [
      "1 3 True\n",
      "3 4 True\n",
      "4 5 True\n",
      "\n",
      "2\n"
     ]
    }
   ],
   "source": [
    "\n",
    "data1 = [3,1,4,3,None,1,5]\n",
    "data2 = [3,3,None,4,2]\n",
    "\n",
    "# Create the trees\n",
    "tree1 = create_tree_from_level_order(data1)\n",
    "tree2 = create_tree_from_level_order(data2)\n",
    "# print(\"Tree 1 (Inorder Traversal):\")\n",
    "# inorder_traversal(tree1)\n",
    "# print(\"\\nTree 2 (Inorder Traversal):\")\n",
    "# inorder_traversal(tree2)\n",
    "\n",
    "sol = Solution()\n",
    "ans = sol.goodNodes(tree1)\n",
    "print('')\n",
    "print(ans)"
   ]
  },
  {
   "cell_type": "code",
   "execution_count": null,
   "id": "38d7c215-db9c-4f48-8890-aeacaaeafdba",
   "metadata": {},
   "outputs": [],
   "source": []
  }
 ],
 "metadata": {
  "kernelspec": {
   "display_name": "Python 3 (ipykernel)",
   "language": "python",
   "name": "python3"
  },
  "language_info": {
   "codemirror_mode": {
    "name": "ipython",
    "version": 3
   },
   "file_extension": ".py",
   "mimetype": "text/x-python",
   "name": "python",
   "nbconvert_exporter": "python",
   "pygments_lexer": "ipython3",
   "version": "3.13.0"
  }
 },
 "nbformat": 4,
 "nbformat_minor": 5
}
