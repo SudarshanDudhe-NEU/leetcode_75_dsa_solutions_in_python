{
 "cells": [
  {
   "cell_type": "markdown",
   "id": "dc6ef3a6-46b3-4e60-8766-4f41a2988268",
   "metadata": {},
   "source": [
    "1448. Count Good Nodes in Binary Tree\n",
    "Medium\n",
    "Topics\n",
    "Companies\n",
    "Hint\n",
    "Given a binary tree root, a node X in the tree is named good if in the path from root to X there are no nodes with a value greater than X.\n",
    "\n",
    "Return the number of good nodes in the binary tree."
   ]
  },
  {
   "cell_type": "code",
   "execution_count": 4,
   "id": "97cd0bc9-6543-4ef9-9f2e-01a197120085",
   "metadata": {},
   "outputs": [],
   "source": [
    "from typing import Optional, List\n",
    "from collections import deque\n",
    "\n",
    "# Definition for a binary tree node.\n",
    "class TreeNode:\n",
    "    def __init__(self, val=0, left=None, right=None):\n",
    "        self.val = val\n",
    "        self.left = left\n",
    "        self.right = right\n",
    "\n",
    "def create_tree_from_level_order(data: List[Optional[int]]) -> Optional[TreeNode]:\n",
    "    if not data or data[0] is None:\n",
    "        return None\n",
    "    \n",
    "    root = TreeNode(data[0])  # Root node\n",
    "    queue = deque([root])     # Queue for level-order insertion\n",
    "    index = 1                 # Index in the data list\n",
    "    \n",
    "    while queue and index < len(data):\n",
    "        node = queue.popleft()  # Get the current node\n",
    "        \n",
    "        # Assign the left child if available\n",
    "        if index < len(data) and data[index] is not None:\n",
    "            node.left = TreeNode(data[index])\n",
    "            queue.append(node.left)\n",
    "        index += 1\n",
    "        \n",
    "        # Assign the right child if available\n",
    "        if index < len(data) and data[index] is not None:\n",
    "            node.right = TreeNode(data[index])\n",
    "            queue.append(node.right)\n",
    "        index += 1\n",
    "    \n",
    "    return root\n",
    "\n",
    "\n",
    "data1 = [3,1,4,3,None,1,5]\n",
    "tree1 = create_tree_from_level_order(data1)\n"
   ]
  },
  {
   "cell_type": "code",
   "execution_count": 5,
   "id": "f440d5aa-37c1-484d-a45e-77960ad87c95",
   "metadata": {},
   "outputs": [
    {
     "name": "stdout",
     "output_type": "stream",
     "text": [
      "Tree 1 (Inorder Traversal):\n",
      "3 1 3 1 4 5 "
     ]
    }
   ],
   "source": [
    "\n",
    "# Function to print the tree (inorder traversal for visualization)\n",
    "def inorder_traversal(root: Optional[TreeNode]):\n",
    "    if root:\n",
    "        inorder_traversal(root.left)\n",
    "        print(root.val, end=\" \")\n",
    "        inorder_traversal(root.right)\n",
    "\n",
    "print(\"Tree 1 (Inorder Traversal):\")\n",
    "inorder_traversal(tree1)"
   ]
  },
  {
   "cell_type": "code",
   "execution_count": 60,
   "id": "204e56b1-76ff-42e3-b24b-6647c6c4bd66",
   "metadata": {},
   "outputs": [],
   "source": [
    "class Solution:\n",
    "    def __init__(self):\n",
    "        self.good_nodes = list()\n",
    "    def isGoodNode(self, root:TreeNode, main_root_value:int):\n",
    "        if root:\n",
    "            if main_root_value <= root.val:\n",
    "                self.good_nodes.append(root.val)\n",
    "                if main_root_value < root.val:\n",
    "                    main_root_value = root.val \n",
    "            self.isGoodNode(root.left,main_root_value)\n",
    "            self.isGoodNode(root.right,main_root_value)\n",
    "        \n",
    "    def goodNodes(self, root: TreeNode) -> int:\n",
    "        if root:\n",
    "            self.isGoodNode(root,root.val)\n",
    "            print(len(self.good_nodes))\n"
   ]
  },
  {
   "cell_type": "code",
   "execution_count": 63,
   "id": "6d048cae-f740-4d9a-9b33-61852b0a2a83",
   "metadata": {},
   "outputs": [
    {
     "name": "stdout",
     "output_type": "stream",
     "text": [
      "4\n"
     ]
    }
   ],
   "source": [
    "sol = Solution()\n",
    "sol.goodNodes(tree1)\n"
   ]
  },
  {
   "cell_type": "code",
   "execution_count": 65,
   "id": "898c6c09-7ea5-4d72-b825-e0d34f79096c",
   "metadata": {},
   "outputs": [
    {
     "name": "stdout",
     "output_type": "stream",
     "text": [
      "2\n"
     ]
    }
   ],
   "source": [
    "sol1 = Solution()\n",
    "tree2 = create_tree_from_level_order([3,3,None,2,1])\n",
    "sol1.goodNodes(tree2)\n"
   ]
  },
  {
   "cell_type": "code",
   "execution_count": 54,
   "id": "967e85cb-ebcd-477e-8443-1b6b8144947b",
   "metadata": {},
   "outputs": [
    {
     "name": "stdout",
     "output_type": "stream",
     "text": [
      "2 10 4 4 8 "
     ]
    }
   ],
   "source": [
    "tree3 = create_tree_from_level_order([2,None,4,10,8,None,None,4])\n",
    "inorder_traversal(tree3)"
   ]
  },
  {
   "cell_type": "code",
   "execution_count": 55,
   "id": "aa4e73b2-6999-4635-8479-620a90b794aa",
   "metadata": {},
   "outputs": [
    {
     "name": "stdout",
     "output_type": "stream",
     "text": [
      "4\n"
     ]
    },
    {
     "data": {
      "text/plain": [
       "2"
      ]
     },
     "execution_count": 55,
     "metadata": {},
     "output_type": "execute_result"
    }
   ],
   "source": [
    "sol.goodNodes(tree3)\n",
    "tree3.val"
   ]
  },
  {
   "cell_type": "code",
   "execution_count": null,
   "id": "23e5d078-a4ed-47dc-a6be-26a69cfb97aa",
   "metadata": {},
   "outputs": [],
   "source": []
  }
 ],
 "metadata": {
  "kernelspec": {
   "display_name": "Python 3 (ipykernel)",
   "language": "python",
   "name": "python3"
  },
  "language_info": {
   "codemirror_mode": {
    "name": "ipython",
    "version": 3
   },
   "file_extension": ".py",
   "mimetype": "text/x-python",
   "name": "python",
   "nbconvert_exporter": "python",
   "pygments_lexer": "ipython3",
   "version": "3.13.0"
  }
 },
 "nbformat": 4,
 "nbformat_minor": 5
}
