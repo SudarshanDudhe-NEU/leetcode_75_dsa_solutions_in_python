{
 "cells": [
  {
   "cell_type": "markdown",
   "id": "9ded7c9b-0fb4-4c83-b922-2d0d40dd9a16",
   "metadata": {},
   "source": [
    "# 1372. Longest ZigZag Path in a Binary Tree\n",
    "\n",
    "**Medium**\n",
    "\n",
    "**Topics:**  \n",
    "- Binary Tree\n",
    "- Depth-First Search (DFS)\n",
    "- Tree Traversal\n",
    "\n",
    "**Companies:**  \n",
    "- Various tech companies (commonly asked in interviews)\n",
    "\n",
    "**Hint:**  \n",
    "- You are given the root of a binary tree.\n",
    "\n",
    "## Problem Description\n",
    "\n",
    "A ZigZag path for a binary tree is defined as follows:\n",
    "\n",
    "1. Choose any node in the binary tree and a direction (right or left).\n",
    "2. If the current direction is right, move to the right child of the current node; otherwise, move to the left child.\n",
    "3. Change the direction from right to left or from left to right.\n",
    "4. Repeat the second and third steps until you can't move in the tree.\n",
    "\n",
    "The ZigZag length is defined as the number of nodes visited - 1. (A single node has a length of 0).\n",
    "\n",
    "**Task:**  \n",
    "Return the longest ZigZag path contained in that tree.\n",
    "\n",
    "## Example\n",
    "\n",
    "Given the following binary tree:\n"
   ]
  },
  {
   "cell_type": "markdown",
   "id": "1f61c6af-74ac-4b2d-b302-6b240c5b5752",
   "metadata": {},
   "source": [
    "### Example 1\n",
    "Input"
   ]
  },
  {
   "cell_type": "markdown",
   "id": "d2560614-994a-4d46-a0f7-9f4157023fbb",
   "metadata": {},
   "source": [
    "root = [1,null,1,1,1,null,null,1,1,null,1,null,null,null,1]"
   ]
  },
  {
   "cell_type": "markdown",
   "id": "037896de-8a95-4153-bcbf-082376b29d81",
   "metadata": {},
   "source": [
    "Tree Structure:\n",
    "\n",
    "        \n",
    "        1\n",
    "         \\\n",
    "          1\n",
    "         / \\\n",
    "        1   1\n",
    "           / \\\n",
    "          1   1\n",
    "         /\n",
    "        1"
   ]
  },
  {
   "cell_type": "markdown",
   "id": "42158b5f-2f07-499e-aaf9-ae178a0bcea7",
   "metadata": {},
   "source": [
    "Output:\n",
    "3"
   ]
  },
  {
   "cell_type": "markdown",
   "id": "230d2a32-e10b-487d-837d-af7e274c10d1",
   "metadata": {},
   "source": [
    "Explanation:\n",
    "The longest ZigZag path is right -> left -> right, which corresponds to the path:\n",
    "\n",
    "Start at the root (1), move right to the node with value 1.\n",
    "\n",
    "Move left to the node with value 1.\n",
    "\n",
    "Move right to the node with value 1.\n",
    "\n",
    "This path has a length of 3 (number of nodes visited - 1).\n",
    "\n"
   ]
  },
  {
   "cell_type": "markdown",
   "id": "e4fece79-490c-4c7f-be9d-4be8235b39fd",
   "metadata": {},
   "source": [
    "### Example 2"
   ]
  },
  {
   "cell_type": "markdown",
   "id": "a5570c75-a0f2-4782-beb2-3da88b6e6252",
   "metadata": {},
   "source": [
    "Input"
   ]
  },
  {
   "cell_type": "markdown",
   "id": "1e88344f-3402-4568-92aa-683129dd5830",
   "metadata": {},
   "source": [
    "root = [1,1,1,null,1,null,null,1,1,null,1]"
   ]
  },
  {
   "cell_type": "markdown",
   "id": "889db610-0609-4977-aa11-ac689f7df561",
   "metadata": {},
   "source": [
    "        1\n",
    "         \\\n",
    "          1\n",
    "         / \\\n",
    "        1   1\n",
    "           / \\\n",
    "          1   1\n",
    "         /\n",
    "        1"
   ]
  },
  {
   "cell_type": "markdown",
   "id": "afb391b5-dff0-4252-8dc5-0c520499bd3e",
   "metadata": {},
   "source": [
    "Output: 4"
   ]
  },
  {
   "cell_type": "markdown",
   "id": "0d1e79f3-2656-4117-ac18-f18b69a9eb8b",
   "metadata": {},
   "source": [
    "Explanation:\n",
    "The longest ZigZag path is left -> right -> left -> right, which corresponds to the path:\n",
    "\n",
    "Start at the root (1), move left to the node with value 1.\n",
    "\n",
    "Move right to the node with value 1.\n",
    "\n",
    "Move left to the node with value 1.\n",
    "\n",
    "Move right to the node with value 1.\n",
    "\n",
    "This path has a length of 4 (number of nodes visited - 1).\n",
    "\n"
   ]
  },
  {
   "cell_type": "code",
   "execution_count": null,
   "id": "99ea99fc-cfe2-4054-aaeb-9b048c2f4479",
   "metadata": {},
   "outputs": [],
   "source": []
  },
  {
   "cell_type": "code",
   "execution_count": 5,
   "id": "29decda8-bed3-4d06-a35c-6ccb43b3a02a",
   "metadata": {},
   "outputs": [],
   "source": [
    "from typing import Optional, List\n",
    "from collections import deque\n",
    "\n",
    "# Definition for a binary tree node.\n",
    "class TreeNode:\n",
    "    def __init__(self, val=0, left=None, right=None):\n",
    "        self.val = val\n",
    "        self.left = left\n",
    "        self.right = right\n",
    "\n",
    "def create_tree_from_level_order(data: List[Optional[int]]) -> Optional[TreeNode]:\n",
    "    if not data or data[0] is None:\n",
    "        return None\n",
    "    \n",
    "    root = TreeNode(data[0])  # Root node\n",
    "    queue = deque([root])     # Queue for level-order insertion\n",
    "    index = 1                 # Index in the data list\n",
    "    \n",
    "    while queue and index < len(data):\n",
    "        node = queue.popleft()  # Get the current node\n",
    "        \n",
    "        # Assign the left child if available\n",
    "        if index < len(data) and data[index] is not None:\n",
    "            node.left = TreeNode(data[index])\n",
    "            queue.append(node.left)\n",
    "        index += 1\n",
    "        \n",
    "        # Assign the right child if available\n",
    "        if index < len(data) and data[index] is not None:\n",
    "            node.right = TreeNode(data[index])\n",
    "            queue.append(node.right)\n",
    "        index += 1\n",
    "    \n",
    "    return root"
   ]
  },
  {
   "cell_type": "code",
   "execution_count": 7,
   "id": "31023ed8-e821-49d8-85be-5f1756608ae9",
   "metadata": {},
   "outputs": [
    {
     "name": "stdout",
     "output_type": "stream",
     "text": [
      "Tree 1 (Inorder Traversal):\n",
      "1 1 1 1 1 1 1 1 \n",
      "Tree 2 (Inorder Traversal):\n",
      "1 1 1 1 1 1 1 "
     ]
    }
   ],
   "source": [
    "# Level-order representations\n",
    "data1 = [1,None,1,1,1,None,None,1,1,None,1,None,None,None,1]\n",
    "data2 = [1,1,1,None,1,None,None,1,1,None,1]\n",
    "data3 = [1]\n",
    "\n",
    "# Create the trees\n",
    "tree1 = create_tree_from_level_order(data1)\n",
    "tree2 = create_tree_from_level_order(data2)\n",
    "\n",
    "# Function to print the tree (inorder traversal for visualization)\n",
    "def inorder_traversal(root: Optional[TreeNode]):\n",
    "    if root:\n",
    "        inorder_traversal(root.left)\n",
    "        print(root.val, end=\" \")\n",
    "        inorder_traversal(root.right)\n",
    "\n",
    "print(\"Tree 1 (Inorder Traversal):\")\n",
    "inorder_traversal(tree1)\n",
    "print(\"\\nTree 2 (Inorder Traversal):\")\n",
    "inorder_traversal(tree2)"
   ]
  },
  {
   "cell_type": "markdown",
   "id": "719ff64a-3821-4522-a195-abb1598f1445",
   "metadata": {},
   "source": [
    "## Solution"
   ]
  },
  {
   "cell_type": "code",
   "execution_count": 46,
   "id": "8afb3435-2256-4dc5-936d-eb79a0f1a582",
   "metadata": {},
   "outputs": [],
   "source": [
    "from typing import Optional\n",
    "\n",
    "class Solution:\n",
    "   def longestZigZag(self, root):\n",
    "       "
   ]
  },
  {
   "cell_type": "code",
   "execution_count": 48,
   "id": "be42d66c-0fef-4a6a-b202-2f11aaab7e10",
   "metadata": {},
   "outputs": [
    {
     "name": "stdout",
     "output_type": "stream",
     "text": [
      "{0: 1, 10: 1}\n",
      "{0: 1, 10: 1, 15: 1}\n",
      "{0: 1, 10: 1, 15: 1, 18: 1}\n",
      "{0: 1, 10: 1, 15: 1, 18: 1, 21: 1}\n",
      "{0: 1, 10: 1, 15: 1, 18: 1, 21: 0, 16: 1}\n",
      "{0: 1, 10: 1, 15: 1, 18: 0, 21: 0, 16: 0, 17: 1}\n",
      "{0: 1, 10: 1, 15: 1, 18: 1, 21: 0, 16: 0, 17: 1}\n",
      "{0: 1, 10: 1, 15: 0, 18: 0, 21: 0, 16: 0, 17: 0, 7: 1}\n",
      "{0: 1, 10: 1, 15: 0, 18: 1, 21: 0, 16: 0, 17: 0, 7: 1}\n"
     ]
    },
    {
     "data": {
      "text/plain": [
       "3"
      ]
     },
     "execution_count": 48,
     "metadata": {},
     "output_type": "execute_result"
    }
   ],
   "source": [
    "sol = Solution()\n",
    "sol.pathSum(tree3, 8)"
   ]
  }
 ],
 "metadata": {
  "kernelspec": {
   "display_name": "Python 3 (ipykernel)",
   "language": "python",
   "name": "python3"
  },
  "language_info": {
   "codemirror_mode": {
    "name": "ipython",
    "version": 3
   },
   "file_extension": ".py",
   "mimetype": "text/x-python",
   "name": "python",
   "nbconvert_exporter": "python",
   "pygments_lexer": "ipython3",
   "version": "3.13.1"
  }
 },
 "nbformat": 4,
 "nbformat_minor": 5
}
