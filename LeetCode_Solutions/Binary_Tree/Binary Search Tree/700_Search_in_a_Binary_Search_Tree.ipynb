{
 "cells": [
  {
   "cell_type": "markdown",
   "id": "f9457670",
   "metadata": {},
   "source": [
    "# 700. Search in a Binary Search Tree  \n",
    "\n",
    "Topics: Binary Search Tree, Tree Traversal\n",
    "\n",
    "Companies: _Various_\n",
    "\n",
    "**Problem Statement:**  \n",
    "Given the root of a binary search tree (BST) and an integer val, find the node in the BST that has a value equal to val. Return the subtree rooted at that node. If the node does not exist, return null.\n",
    "\n",
    "**Example 1:**  \n",
    "Input: root = [4,2,7,1,3], val = 2  \n",
    "Output: [2,1,3]\n",
    "\n",
    "**Example 2:**  \n",
    "Input: root = [4,2,7,1,3], val = 5  \n",
    "Output: []"
   ]
  },
  {
   "cell_type": "code",
   "execution_count": 1,
   "id": "f99032d1-1d21-44ca-83b1-d967bf3e49d5",
   "metadata": {},
   "outputs": [
    {
     "name": "stdout",
     "output_type": "stream",
     "text": [
      "[4, 2, 7, 1, 3]\n",
      "[1, 2, 3, 4, None, None, None, 5]\n",
      "[1, None, 3]\n",
      "[]\n"
     ]
    }
   ],
   "source": [
    "from typing import Optional, List\n",
    "from collections import deque\n",
    "\n",
    "\n",
    "class TreeNode:\n",
    "    def __init__(self, val=0, left=None, right=None):\n",
    "        self.val = val\n",
    "        self.left = left\n",
    "        self.right = right\n",
    "\n",
    "\n",
    "def create_tree_from_level_order(data: List[Optional[int]]) -> Optional[TreeNode]:\n",
    "    if not data or data[0] is None:\n",
    "        return None\n",
    "\n",
    "    root = TreeNode(data[0])\n",
    "    queue = deque([root])\n",
    "    index = 1\n",
    "\n",
    "    while queue and index < len(data):\n",
    "        node = queue.popleft()\n",
    "\n",
    "        # Assign left child\n",
    "        if index < len(data) and data[index] is not None:\n",
    "            node.left = TreeNode(data[index])\n",
    "            queue.append(node.left)\n",
    "        index += 1\n",
    "\n",
    "        # Assign right child\n",
    "        if index < len(data) and data[index] is not None:\n",
    "            node.right = TreeNode(data[index])\n",
    "            queue.append(node.right)\n",
    "        index += 1\n",
    "\n",
    "    return root\n",
    "\n",
    "\n",
    "def print_tree_level_order(root: Optional[TreeNode]) -> None:\n",
    "    if not root:\n",
    "        print(\"[]\")\n",
    "        return\n",
    "\n",
    "    queue = deque([root])\n",
    "    result = []\n",
    "\n",
    "    while queue:\n",
    "        node = queue.popleft()\n",
    "        if node:\n",
    "            result.append(str(node.val))\n",
    "            queue.append(node.left)\n",
    "            queue.append(node.right)\n",
    "        else:\n",
    "            result.append(\"None\")\n",
    "\n",
    "    # Trim trailing None values\n",
    "    while result and result[-1] == \"None\":\n",
    "        result.pop()\n",
    "\n",
    "    print(\"[\" + \", \".join(result) + \"]\")\n",
    "\n",
    "\n",
    "def inorder_traversal(root: Optional[TreeNode]) -> List[int]:\n",
    "    result = []\n",
    "    stack = []\n",
    "    curr = root\n",
    "\n",
    "    while stack or curr:\n",
    "        while curr:\n",
    "            stack.append(curr)\n",
    "            curr = curr.left\n",
    "        curr = stack.pop()\n",
    "        result.append(curr.val)\n",
    "        curr = curr.right\n",
    "\n",
    "    return result\n",
    "\n",
    "# Example usage\n",
    "if __name__ == \"__main__\":\n",
    "    data1 = [4, 2, 7, 1, 3]\n",
    "    data2 = [1, 2, 3, 4, None, None, None, 5]\n",
    "    data3 = [1, None, 3]\n",
    "    data4 = []\n",
    "    \n",
    "    tree1 = create_tree_from_level_order(data1)\n",
    "    print_tree_level_order(tree1)\n",
    "    tree2 = create_tree_from_level_order(data2)\n",
    "    print_tree_level_order(tree2)\n",
    "    tree3 = create_tree_from_level_order(data3)\n",
    "    print_tree_level_order(tree3)\n",
    "    tree4 = create_tree_from_level_order(data4)\n",
    "    print_tree_level_order(tree4)\n",
    "\n",
    "\n",
    "\n",
    "    "
   ]
  },
  {
   "cell_type": "markdown",
   "id": "719ff64a-3821-4522-a195-abb1598f1445",
   "metadata": {},
   "source": [
    "## Solution"
   ]
  },
  {
   "cell_type": "markdown",
   "id": "a78d0bf6",
   "metadata": {},
   "source": [
    "## Implementation of the searchBST\n",
    "The method searchBST performs a recursive search in a Binary Search Tree (BST). Given the root of the BST and a target value 'val', the function:\n",
    "\n",
    "- Returns None if the current node is None.\n",
    "- Returns the current node if its value matches 'val'.\n",
    "- Recursively searches the left subtree if 'val' is less than the current node's value.\n",
    "- Otherwise, it recursively searches the right subtree.\n",
    "\n",
    "Below is the implementation:\n"
   ]
  },
  {
   "cell_type": "code",
   "execution_count": 2,
   "id": "e0a538ea",
   "metadata": {},
   "outputs": [],
   "source": [
    "from typing import Optional\n",
    "from collections import deque\n",
    "\n",
    "class Solution:\n",
    "    def searchBST(self, root: Optional[TreeNode], val: int) -> Optional[TreeNode]:\n",
    "        curr = root\n",
    "        while curr:\n",
    "            if curr.val == val:\n",
    "                return curr\n",
    "            elif curr.val < val:\n",
    "                curr = curr.right\n",
    "            else:\n",
    "                curr = curr.left\n",
    "        return None"
   ]
  },
  {
   "cell_type": "code",
   "execution_count": 3,
   "id": "31442d41",
   "metadata": {},
   "outputs": [
    {
     "name": "stdout",
     "output_type": "stream",
     "text": [
      "[2, 1, 3]\n",
      "[]\n"
     ]
    }
   ],
   "source": [
    "s = Solution()\n",
    "sol_tree1 = s.searchBST(tree1,2)\n",
    "sol_tree2 = s.searchBST(tree1,5)\n",
    "print_tree_level_order(sol_tree1)\n",
    "print_tree_level_order(sol_tree2)"
   ]
  },
  {
   "cell_type": "code",
   "execution_count": 4,
   "id": "8b1cf409",
   "metadata": {},
   "outputs": [],
   "source": [
    "from typing import Optional\n",
    "from collections import deque\n",
    "\n",
    "class Solution:\n",
    "    def searchBST(self, root: Optional[TreeNode], val: int) -> Optional[TreeNode]:\n",
    "        def dfs(node):\n",
    "            if not node:\n",
    "                return None\n",
    "            if node.val == val:\n",
    "                return node\n",
    "            if val < node.val:\n",
    "                return dfs(node.left)\n",
    "            return dfs(node.right)\n",
    "        \n",
    "        return dfs(root)"
   ]
  },
  {
   "cell_type": "code",
   "execution_count": null,
   "id": "a61536e4",
   "metadata": {},
   "outputs": [],
   "source": []
  }
 ],
 "metadata": {
  "kernelspec": {
   "display_name": "Python 3 (ipykernel)",
   "language": "python",
   "name": "python3"
  },
  "language_info": {
   "codemirror_mode": {
    "name": "ipython",
    "version": 3
   },
   "file_extension": ".py",
   "mimetype": "text/x-python",
   "name": "python",
   "nbconvert_exporter": "python",
   "pygments_lexer": "ipython3",
   "version": "3.13.2"
  }
 },
 "nbformat": 4,
 "nbformat_minor": 5
}
