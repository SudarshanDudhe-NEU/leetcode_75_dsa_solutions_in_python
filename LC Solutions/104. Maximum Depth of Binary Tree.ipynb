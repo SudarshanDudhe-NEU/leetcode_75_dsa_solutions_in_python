{
 "cells": [
  {
   "cell_type": "markdown",
   "id": "82168889-463e-481a-87a6-ae1388311a89",
   "metadata": {},
   "source": [
    "104. Maximum Depth of Binary Tree\n",
    "Easy\n",
    "Topics\n",
    "Companies\n",
    "Given the root of a binary tree, return its maximum depth.\n",
    "\n",
    "A binary tree's maximum depth is the number of nodes along the longest path from the root node down to the farthest leaf node.\n",
    "\n",
    " \n",
    "\n",
    "Example 1:\n",
    "\n",
    "\n",
    "Input: root = [3,9,20,null,null,15,7]\n",
    "Output: 3\n",
    "Example 2:\n",
    "\n",
    "Input: root = [1,null,2]\n",
    "Output: 2"
   ]
  },
  {
   "cell_type": "code",
   "execution_count": 1,
   "id": "42d9b455-ca10-4298-88f6-5e91e530c83d",
   "metadata": {},
   "outputs": [
    {
     "name": "stdout",
     "output_type": "stream",
     "text": [
      "1 -> 2 -> 3 -> 4 -> 5 -> None\n"
     ]
    }
   ],
   "source": [
    "# Define a Node class\n",
    "class Node:\n",
    "    def __init__(self, value):\n",
    "        self.value = value\n",
    "        self.next = None\n",
    "\n",
    "# Function to create a linked list from a list\n",
    "def create_linked_list(values):\n",
    "    if not values:\n",
    "        return None  # If the input list is empty, return None\n",
    "    head = Node(values[0])  # Create the head node\n",
    "    current = head  # Start with the head node\n",
    "    for value in values[1:]:\n",
    "        current.next = Node(value)  # Create and link the next node\n",
    "        current = current.next  # Move to the next node\n",
    "    return head\n",
    "\n",
    "# Function to print the linked list\n",
    "def print_linked_list(head):\n",
    "    current = head\n",
    "    while current:\n",
    "        print(current.value, end=\" -> \")\n",
    "        current = current.next\n",
    "    print(\"None\")\n",
    "\n",
    "# Input list\n",
    "head_values = [1, 2, 3, 4, 5]\n",
    "\n",
    "# Create the linked list\n",
    "linked_list_head = create_linked_list(head_values)\n",
    "\n",
    "# Print the linked list\n",
    "print_linked_list(linked_list_head)\n"
   ]
  },
  {
   "cell_type": "code",
   "execution_count": 4,
   "id": "e43f0db2-4d91-4f5e-96cd-39d693444e8d",
   "metadata": {},
   "outputs": [
    {
     "name": "stdout",
     "output_type": "stream",
     "text": [
      "Example 1 Output: 3\n",
      "Example 2 Output: 2\n"
     ]
    }
   ],
   "source": [
    "from typing import Optional\n",
    "\n",
    "# Definition for a binary tree node.\n",
    "class TreeNode:\n",
    "    def __init__(self, val=0, left=None, right=None):\n",
    "        self.val = val\n",
    "        self.left = left\n",
    "        self.right = right\n",
    "\n",
    "\n",
    "class Solution:\n",
    "    def height(self, root):\n",
    "        if not root:\n",
    "            return 0\n",
    "        left_height = self.height(root.left)\n",
    "        right_height = self.height(root.right)\n",
    "        return max(left_height,right_height)+1\n",
    "\n",
    "    def maxDepth(self, root: Optional[TreeNode]) -> int:\n",
    "        if root == None:\n",
    "            return 0\n",
    "        return self.height(root)\n",
    "\n",
    "# Helper function to build a tree from a list (level-order insertion)\n",
    "def build_tree_from_list(values):\n",
    "    if not values:\n",
    "        return None\n",
    "    root = TreeNode(values[0])\n",
    "    queue = [root]\n",
    "    index = 1\n",
    "    while index < len(values):\n",
    "        node = queue.pop(0)\n",
    "        if values[index] is not None:\n",
    "            node.left = TreeNode(values[index])\n",
    "            queue.append(node.left)\n",
    "        index += 1\n",
    "        if index < len(values) and values[index] is not None:\n",
    "            node.right = TreeNode(values[index])\n",
    "            queue.append(node.right)\n",
    "        index += 1\n",
    "    return root\n",
    "\n",
    "# Example 1\n",
    "root1 = build_tree_from_list([3, 9, 20, None, None, 15, 7])\n",
    "solution = Solution()\n",
    "print(f\"Example 1 Output: {solution.maxDepth(root1)}\")  # Expected Output: 3\n",
    "\n",
    "# Example 2\n",
    "root2 = build_tree_from_list([1, None, 2])\n",
    "print(f\"Example 2 Output: {solution.maxDepth(root2)}\")  # Expected Output: 2\n"
   ]
  },
  {
   "cell_type": "code",
   "execution_count": null,
   "id": "9f34193c-00f2-40b1-b86e-15df3d81e537",
   "metadata": {},
   "outputs": [],
   "source": []
  }
 ],
 "metadata": {
  "kernelspec": {
   "display_name": "Python 3 (ipykernel)",
   "language": "python",
   "name": "python3"
  },
  "language_info": {
   "codemirror_mode": {
    "name": "ipython",
    "version": 3
   },
   "file_extension": ".py",
   "mimetype": "text/x-python",
   "name": "python",
   "nbconvert_exporter": "python",
   "pygments_lexer": "ipython3",
   "version": "3.13.1"
  }
 },
 "nbformat": 4,
 "nbformat_minor": 5
}
