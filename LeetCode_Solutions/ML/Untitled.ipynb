{
 "cells": [
  {
   "cell_type": "code",
   "execution_count": 14,
   "id": "a250400e-be60-4ab5-b891-60e34b8df3c8",
   "metadata": {},
   "outputs": [],
   "source": [
    "import numpy as np\n",
    "from numpy.typing import NDArray\n",
    "\n",
    "\n",
    "# Helpful functions:\n",
    "# https://numpy.org/doc/stable/reference/generated/numpy.matmul.html\n",
    "# https://numpy.org/doc/stable/reference/generated/numpy.mean.html\n",
    "# https://numpy.org/doc/stable/reference/generated/numpy.square.html\n",
    "\n",
    "class Solution:\n",
    "    \n",
    "    def get_model_prediction(self, X: NDArray[np.float64], weights: NDArray[np.float64]) -> NDArray[np.float64]:\n",
    "        # X is an Nx3 NumPy array\n",
    "        # weights is a 3x1 NumPy array\n",
    "        # HINT: np.matmul() will be useful\n",
    "        # return np.round(your_answer, 5)\n",
    "        res = np.matmul(X,weights)\n",
    "        return np.round(res, 5)\n",
    "\n",
    "\n",
    "    def get_error(self, model_prediction: NDArray[np.float64], ground_truth: NDArray[np.float64]) -> float:\n",
    "        # model_prediction is an Nx1 NumPy array\n",
    "        # ground_truth is an Nx1 NumPy array\n",
    "        # HINT: np.mean(), np.square() will be useful\n",
    "        # return round(your_answer, 5)\n",
    "        model_prediction = np.array(model_prediction, dtype=np.float64)\n",
    "        ground_truth = np.array(ground_truth, dtype=np.float64)\n",
    "        error = model_prediction - ground_truth\n",
    "        squared_error = np.square(error)\n",
    "        mse = np.mean(squared_error)\n",
    "        return round(mse,5) \n",
    "         \n"
   ]
  },
  {
   "cell_type": "code",
   "execution_count": 15,
   "id": "a14a09c4-a408-4dac-9218-7b1c15696e9f",
   "metadata": {},
   "outputs": [
    {
     "data": {
      "text/plain": [
       "array([4.47195])"
      ]
     },
     "execution_count": 15,
     "metadata": {},
     "output_type": "execute_result"
    }
   ],
   "source": [
    "sol = Solution()\n",
    "get_model_predictionX=[[0.3745401188473625, 0.9507143064099162, 0.7319939418114051]]\n",
    "weights=[1.0, 2.0, 3.0]\n",
    "\n",
    "sol.get_model_prediction(get_model_predictionX,weights)"
   ]
  },
  {
   "cell_type": "code",
   "execution_count": 16,
   "id": "83980830-e2f3-4ad7-9162-a5095bceb67f",
   "metadata": {},
   "outputs": [
    {
     "name": "stdout",
     "output_type": "stream",
     "text": [
      "0.33785\n"
     ]
    }
   ],
   "source": [
    "sol = Solution()\n",
    "model_prediction = [[0.37454012], [0.95071431], [0.73199394]]\n",
    "ground_truth = [[0.59865848], [0.15601864], [0.15599452]]\n",
    "\n",
    "result = sol.get_error(model_prediction, ground_truth)\n",
    "print(result)  # Expected output: 0.20322"
   ]
  },
  {
   "cell_type": "code",
   "execution_count": null,
   "id": "2358b81d-182b-4647-88e9-cf821b8d3b50",
   "metadata": {},
   "outputs": [],
   "source": []
  }
 ],
 "metadata": {
  "kernelspec": {
   "display_name": "Python 3 (ipykernel)",
   "language": "python",
   "name": "python3"
  },
  "language_info": {
   "codemirror_mode": {
    "name": "ipython",
    "version": 3
   },
   "file_extension": ".py",
   "mimetype": "text/x-python",
   "name": "python",
   "nbconvert_exporter": "python",
   "pygments_lexer": "ipython3",
   "version": "3.13.2"
  }
 },
 "nbformat": 4,
 "nbformat_minor": 5
}
